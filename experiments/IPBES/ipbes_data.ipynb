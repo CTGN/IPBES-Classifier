{
 "cells": [
  {
   "cell_type": "code",
   "execution_count": 9,
   "id": "be95c6ed",
   "metadata": {},
   "outputs": [],
   "source": [
    "import os\n",
    "import sys\n",
    "\n",
    "parent_dir = os.path.abspath(\"/home/leandre/Projects/BioMoQA_Playground\")\n",
    "\n",
    "if parent_dir not in sys.path:\n",
    "    sys.path.append(parent_dir)\n",
    "\n",
    "from src.data_pipeline.ipbes.create_ipbes_raw import loading_pipeline_from_raw"
   ]
  },
  {
   "cell_type": "code",
   "execution_count": null,
   "id": "cc3222a6",
   "metadata": {},
   "outputs": [
    {
     "name": "stderr",
     "output_type": "stream",
     "text": [
      "2025-07-24 08:36:53,590 - INFO - load raw positive datasets\n",
      "2025-07-24 08:36:53,591 - INFO - /home/leandre/Projects/BioMoQA_Playground/data/IPBES/Raw/Positives/IPBES IAS_2352922\n",
      "2025-07-24 08:36:53,592 - INFO - 128\n"
     ]
    },
    {
     "data": {
      "application/vnd.jupyter.widget-view+json": {
       "model_id": "323fd7b75ca74d4888fdd64c9fa45601",
       "version_major": 2,
       "version_minor": 0
      },
      "text/plain": [
       "Resolving data files:   0%|          | 0/128 [00:00<?, ?it/s]"
      ]
     },
     "metadata": {},
     "output_type": "display_data"
    },
    {
     "name": "stderr",
     "output_type": "stream",
     "text": [
      "2025-07-24 08:36:54,072 - INFO - Successfully loaded dataset from: /home/leandre/Projects/BioMoQA_Playground/data/IPBES/Raw/Positives/IPBES IAS_2352922\n",
      "2025-07-24 08:36:54,072 - INFO - /home/leandre/Projects/BioMoQA_Playground/data/IPBES/Raw/Positives/IPBES SUA_2344805\n",
      "2025-07-24 08:36:54,074 - INFO - 86\n"
     ]
    },
    {
     "data": {
      "application/vnd.jupyter.widget-view+json": {
       "model_id": "437c506b09644f01b0d05ef81665efa5",
       "version_major": 2,
       "version_minor": 0
      },
      "text/plain": [
       "Resolving data files:   0%|          | 0/86 [00:00<?, ?it/s]"
      ]
     },
     "metadata": {},
     "output_type": "display_data"
    },
    {
     "name": "stderr",
     "output_type": "stream",
     "text": [
      "2025-07-24 08:36:54,226 - INFO - Successfully loaded dataset from: /home/leandre/Projects/BioMoQA_Playground/data/IPBES/Raw/Positives/IPBES SUA_2344805\n",
      "2025-07-24 08:36:54,226 - INFO - /home/leandre/Projects/BioMoQA_Playground/data/IPBES/Raw/Positives/IPBES VA_2345372\n",
      "2025-07-24 08:36:54,228 - INFO - 128\n"
     ]
    },
    {
     "data": {
      "application/vnd.jupyter.widget-view+json": {
       "model_id": "349ad70cd0674a2d8d9786b9a4d6d6b8",
       "version_major": 2,
       "version_minor": 0
      },
      "text/plain": [
       "Resolving data files:   0%|          | 0/128 [00:00<?, ?it/s]"
      ]
     },
     "metadata": {},
     "output_type": "display_data"
    },
    {
     "name": "stderr",
     "output_type": "stream",
     "text": [
      "2025-07-24 08:36:54,390 - INFO - Successfully loaded dataset from: /home/leandre/Projects/BioMoQA_Playground/data/IPBES/Raw/Positives/IPBES VA_2345372\n",
      "2025-07-24 08:36:54,391 - INFO - pos_ds features for IAS : {'DOI': Value(dtype='string', id=None), 'Title': Value(dtype='string', id=None), 'Abstract Note': Value(dtype='string', id=None), 'Language': Value(dtype='string', id=None), 'Item Type': Value(dtype='string', id=None), 'Publication Year': Value(dtype='int32', id=None)}\n",
      "2025-07-24 08:36:54,391 - INFO - load raw negative dataset\n",
      "2025-07-24 08:36:54,392 - INFO - creating corpus dataset\n"
     ]
    },
    {
     "data": {
      "application/vnd.jupyter.widget-view+json": {
       "model_id": "4f59e62db4644704980c92d18ee2e7b5",
       "version_major": 2,
       "version_minor": 0
      },
      "text/plain": [
       "Resolving data files:   0%|          | 0/2524 [00:00<?, ?it/s]"
      ]
     },
     "metadata": {},
     "output_type": "display_data"
    },
    {
     "data": {
      "application/vnd.jupyter.widget-view+json": {
       "model_id": "a0831ca63cc4440989bdffc05017f867",
       "version_major": 2,
       "version_minor": 0
      },
      "text/plain": [
       "Loading dataset shards:   0%|          | 0/42 [00:00<?, ?it/s]"
      ]
     },
     "metadata": {},
     "output_type": "display_data"
    },
    {
     "name": "stderr",
     "output_type": "stream",
     "text": [
      "2025-07-24 08:36:56,058 - INFO - dataset loaded\n",
      "2025-07-24 08:36:56,060 - INFO - ['id', 'display_name', 'author', 'ab', 'doi', 'topics', 'author_abbr']\n",
      "2025-07-24 08:36:56,060 - INFO - renaming raw positive datasets\n",
      "2025-07-24 08:36:56,135 - INFO - Finished positives and negatives creation pipeline\n"
     ]
    }
   ],
   "source": [
    "datasets = loading_pipeline_from_raw(multi_label=True)"
   ]
  },
  {
   "cell_type": "code",
   "execution_count": 11,
   "id": "f52c4e7f",
   "metadata": {},
   "outputs": [
    {
     "data": {
      "text/plain": [
       "([Dataset({\n",
       "      features: ['doi', 'title', 'abstract', 'Item Type', 'Publication Year'],\n",
       "      num_rows: 5251\n",
       "  }),\n",
       "  Dataset({\n",
       "      features: ['doi', 'title', 'abstract', 'Item Type', 'Publication Year'],\n",
       "      num_rows: 6281\n",
       "  }),\n",
       "  Dataset({\n",
       "      features: ['doi', 'title', 'abstract', 'Item Type', 'Publication Year'],\n",
       "      num_rows: 3109\n",
       "  })],\n",
       " Dataset({\n",
       "     features: ['id', 'display_name', 'author', 'ab', 'doi', 'topics', 'author_abbr'],\n",
       "     num_rows: 4227131\n",
       " }))"
      ]
     },
     "execution_count": 11,
     "metadata": {},
     "output_type": "execute_result"
    }
   ],
   "source": [
    "datasets"
   ]
  },
  {
   "cell_type": "code",
   "execution_count": 12,
   "id": "48f89b23",
   "metadata": {},
   "outputs": [],
   "source": [
    "pos_ds_list=datasets[0]\n",
    "neg_ds=datasets[1]"
   ]
  },
  {
   "cell_type": "code",
   "execution_count": 13,
   "id": "ce5e8f29",
   "metadata": {},
   "outputs": [
    {
     "name": "stdout",
     "output_type": "stream",
     "text": [
      "{'id': 'https://openalex.org/W1979751022', 'display_name': 'Observations on an apparatus to illustrate the composition and resolution forces, and to measure the power obtained by certain parts of machinery operating on this principle', 'author': [{'au_id': 'https://openalex.org/A5055018967', 'au_display_name': 'W. R. Johnson', 'au_orcid': None, 'author_position': 'first', 'is_corresponding': True, 'au_affiliation_raw': '', 'institution_id': None, 'institution_display_name': None, 'institution_ror': None, 'institution_country_code': None, 'institution_type': None, 'institution_lineage': None}], 'ab': \"Physical components of societies like infrastructures need biophysical resources for their construction, maintenance and use. These components, analyzed as societies' material stocks, predefine energy and raw materials and provide societal services, necessary for their functioning and for social welfare. The nexus between stocks, the resource flows and the services, is crucial for the analysis of social-ecological transformations. In this paper, we build on recent work in socio-metabolic research on the stock-flow-service nexus and develop a conceptual approach how to examine this nexus while addressing the challenges of social-ecological transformations. We refer to the concept of provisioning systems to analyze the institutions, technologies, knowledge and practices mediating between actors and resources but also the power relations involved in the creation and transformation of this nexus. It enables us to understand how specific stock-flow-service nexuses are constructed, which lock-in effects result from specific stock-flow-service configurations and which options can be envisaged for its transformation towards lower resource use. We argue that provisioning systems need to be analyzed as structuring space and time as well as embedded within the contested terrain of the state. By providing this conceptualization, we aim to offer an understanding which can help to define options for the transformation of the stock-flow-service nexus in a transdisciplinary process.\", 'doi': 'https://doi.org/10.1016/s0016-0032(29)90208-8', 'topics': [{'i': 1, 'score': 0.8759, 'name': 'topic', 'id': 'https://openalex.org/T10435', 'display_name': 'Life Cycle Assessment and Environmental Impact Analysis'}, {'i': 1, 'score': 0.8759, 'name': 'subfield', 'id': 'https://openalex.org/subfields/2305', 'display_name': 'Environmental Engineering'}, {'i': 1, 'score': 0.8759, 'name': 'field', 'id': 'https://openalex.org/fields/23', 'display_name': 'Environmental Science'}, {'i': 1, 'score': 0.8759, 'name': 'domain', 'id': 'https://openalex.org/domains/3', 'display_name': 'Physical Sciences'}, {'i': 2, 'score': 0.8448, 'name': 'topic', 'id': 'https://openalex.org/T11336', 'display_name': 'Indoor Air Pollution in Developing Countries'}, {'i': 2, 'score': 0.8448, 'name': 'subfield', 'id': 'https://openalex.org/subfields/2310', 'display_name': 'Pollution'}, {'i': 2, 'score': 0.8448, 'name': 'field', 'id': 'https://openalex.org/fields/23', 'display_name': 'Environmental Science'}, {'i': 2, 'score': 0.8448, 'name': 'domain', 'id': 'https://openalex.org/domains/3', 'display_name': 'Physical Sciences'}, {'i': 3, 'score': 0.8394, 'name': 'topic', 'id': 'https://openalex.org/T11091', 'display_name': 'Battery Recycling and Rare Earth Recovery'}, {'i': 3, 'score': 0.8394, 'name': 'subfield', 'id': 'https://openalex.org/subfields/2210', 'display_name': 'Mechanical Engineering'}, {'i': 3, 'score': 0.8394, 'name': 'field', 'id': 'https://openalex.org/fields/22', 'display_name': 'Engineering'}, {'i': 3, 'score': 0.8394, 'name': 'domain', 'id': 'https://openalex.org/domains/3', 'display_name': 'Physical Sciences'}], 'author_abbr': 'Johnson (1829)'}\n"
     ]
    }
   ],
   "source": [
    "print(neg_ds[0])"
   ]
  },
  {
   "cell_type": "code",
   "execution_count": 14,
   "id": "ae29b3e1",
   "metadata": {},
   "outputs": [
    {
     "name": "stdout",
     "output_type": "stream",
     "text": [
      "['https://openalex.org/W1979751022', 'https://openalex.org/W1988954127', 'https://openalex.org/W2007621566', 'https://openalex.org/W2008505788', 'https://openalex.org/W2292613693', 'https://openalex.org/W2481624553', 'https://openalex.org/W4235958572', 'https://openalex.org/W4236495970', 'https://openalex.org/W4252441769', 'https://openalex.org/W2002187970']\n"
     ]
    }
   ],
   "source": [
    "print(neg_ds['id'][:10])"
   ]
  },
  {
   "cell_type": "code",
   "execution_count": 15,
   "id": "c40bdf41",
   "metadata": {},
   "outputs": [
    {
     "ename": "RuntimeError",
     "evalue": "asyncio.run() cannot be called from a running event loop",
     "output_type": "error",
     "traceback": [
      "\u001b[31m---------------------------------------------------------------------------\u001b[39m",
      "\u001b[31mRuntimeError\u001b[39m                              Traceback (most recent call last)",
      "\u001b[36mCell\u001b[39m\u001b[36m \u001b[39m\u001b[32mIn[15]\u001b[39m\u001b[32m, line 93\u001b[39m\n\u001b[32m     89\u001b[39m         \u001b[38;5;28mprint\u001b[39m(\u001b[33mf\u001b[39m\u001b[33m\"\u001b[39m\u001b[33m📁 Saved to \u001b[39m\u001b[38;5;132;01m{\u001b[39;00mCSV_PATH\u001b[38;5;132;01m}\u001b[39;00m\u001b[33m\"\u001b[39m)\n\u001b[32m     92\u001b[39m \u001b[38;5;66;03m# Run it\u001b[39;00m\n\u001b[32m---> \u001b[39m\u001b[32m93\u001b[39m \u001b[43masyncio\u001b[49m\u001b[43m.\u001b[49m\u001b[43mrun\u001b[49m\u001b[43m(\u001b[49m\u001b[43mmain\u001b[49m\u001b[43m(\u001b[49m\u001b[43m)\u001b[49m\u001b[43m)\u001b[49m\n",
      "\u001b[36mFile \u001b[39m\u001b[32m~/.local/share/uv/python/cpython-3.11.11-linux-x86_64-gnu/lib/python3.11/asyncio/runners.py:186\u001b[39m, in \u001b[36mrun\u001b[39m\u001b[34m(main, debug)\u001b[39m\n\u001b[32m    161\u001b[39m \u001b[38;5;250m\u001b[39m\u001b[33;03m\"\"\"Execute the coroutine and return the result.\u001b[39;00m\n\u001b[32m    162\u001b[39m \n\u001b[32m    163\u001b[39m \u001b[33;03mThis function runs the passed coroutine, taking care of\u001b[39;00m\n\u001b[32m   (...)\u001b[39m\u001b[32m    182\u001b[39m \u001b[33;03m    asyncio.run(main())\u001b[39;00m\n\u001b[32m    183\u001b[39m \u001b[33;03m\"\"\"\u001b[39;00m\n\u001b[32m    184\u001b[39m \u001b[38;5;28;01mif\u001b[39;00m events._get_running_loop() \u001b[38;5;129;01mis\u001b[39;00m \u001b[38;5;129;01mnot\u001b[39;00m \u001b[38;5;28;01mNone\u001b[39;00m:\n\u001b[32m    185\u001b[39m     \u001b[38;5;66;03m# fail fast with short traceback\u001b[39;00m\n\u001b[32m--> \u001b[39m\u001b[32m186\u001b[39m     \u001b[38;5;28;01mraise\u001b[39;00m \u001b[38;5;167;01mRuntimeError\u001b[39;00m(\n\u001b[32m    187\u001b[39m         \u001b[33m\"\u001b[39m\u001b[33masyncio.run() cannot be called from a running event loop\u001b[39m\u001b[33m\"\u001b[39m)\n\u001b[32m    189\u001b[39m \u001b[38;5;28;01mwith\u001b[39;00m Runner(debug=debug) \u001b[38;5;28;01mas\u001b[39;00m runner:\n\u001b[32m    190\u001b[39m     \u001b[38;5;28;01mreturn\u001b[39;00m runner.run(main)\n",
      "\u001b[31mRuntimeError\u001b[39m: asyncio.run() cannot be called from a running event loop"
     ]
    }
   ],
   "source": [
    "import asyncio\n",
    "import aiohttp\n",
    "import pandas as pd\n",
    "from tqdm.asyncio import tqdm_asyncio\n",
    "from time import time\n",
    "from typing import List\n",
    "\n",
    "# ------------- CONFIGURATION -------------\n",
    "EMAIL = \"leandre.catogni@hesge.ch\"\n",
    "USER_AGENT = f\"mailto:{EMAIL}\"\n",
    "BATCH_SIZE = 100\n",
    "MAX_RETRIES = 3\n",
    "SLEEP_BETWEEN_BATCHES = 0.5  # polite delay\n",
    "TIMEOUT = 30  # request timeout\n",
    "EXPORT_CSV = True\n",
    "CSV_PATH = \"openalex_async_results.csv\"\n",
    "# -----------------------------------------\n",
    "\n",
    "# ---------- YOUR DATAFRAME HERE ----------\n",
    "# neg_ds = pd.read_csv(\"your_ids.csv\")  # Must contain 'id' column\n",
    "# Example placeholder:\n",
    "# neg_ds = pd.DataFrame({'id': ['https://openalex.org/W1234567890', 'https://openalex.org/W0987654321']})\n",
    "# -----------------------------------------\n",
    "\n",
    "\n",
    "def chunk_ids(id_list: List[str], size: int):\n",
    "    \"\"\"Chunk a list into batches of size `size`.\"\"\"\n",
    "    for i in range(0, len(id_list), size):\n",
    "        yield id_list[i:i + size]\n",
    "\n",
    "\n",
    "async def fetch_batch(session: aiohttp.ClientSession, batch_ids: List[str], attempt=1):\n",
    "    \"\"\"Fetch a batch of OpenAlex IDs with retries.\"\"\"\n",
    "    base_url = \"https://api.openalex.org/works\"\n",
    "    joined_ids = \"|\".join(batch_ids)\n",
    "    params = {\n",
    "        \"filter\": f\"openalex:{joined_ids}\",\n",
    "        \"per-page\": len(batch_ids),\n",
    "        \"select\": \"id,doi,title,publication_year\"\n",
    "    }\n",
    "\n",
    "    try:\n",
    "        async with session.get(base_url, params=params, timeout=TIMEOUT) as response:\n",
    "            if response.status == 200:\n",
    "                data = await response.json()\n",
    "                return data[\"results\"]\n",
    "            else:\n",
    "                print(f\"❌ Error {response.status} on attempt {attempt}: {await response.text()}\")\n",
    "    except Exception as e:\n",
    "        print(f\"⚠️ Exception on attempt {attempt}: {e}\")\n",
    "\n",
    "    if attempt < MAX_RETRIES:\n",
    "        await asyncio.sleep(SLEEP_BETWEEN_BATCHES * attempt)\n",
    "        return await fetch_batch(session, batch_ids, attempt + 1)\n",
    "    else:\n",
    "        print(f\"🚫 Failed to fetch after {MAX_RETRIES} attempts: {batch_ids}\")\n",
    "        return []\n",
    "\n",
    "\n",
    "async def fetch_all_batches(all_ids: List[str]):\n",
    "    \"\"\"Main asynchronous fetcher.\"\"\"\n",
    "    connector = aiohttp.TCPConnector(limit=10)  # limit concurrent connections\n",
    "    headers = {\"User-Agent\": USER_AGENT}\n",
    "\n",
    "    async with aiohttp.ClientSession(headers=headers, connector=connector) as session:\n",
    "        batches = list(chunk_ids(all_ids, BATCH_SIZE))\n",
    "        tasks = [fetch_batch(session, batch) for batch in batches]\n",
    "        all_results = await tqdm_asyncio.gather(*tasks, desc=\"Fetching OpenAlex\")\n",
    "        # Flatten results (list of lists)\n",
    "        return [item for sublist in all_results for item in sublist]\n",
    "\n",
    "\n",
    "async def main():\n",
    "    # Clean and prepare OpenAlex IDs\n",
    "    openalex_ids = [\n",
    "        i.replace(\"https://openalex.org/\", \"\")\n",
    "        for i in neg_ds['id'] if isinstance(i, str) and i\n",
    "    ]\n",
    "    print(f\"🔎 Preparing to fetch {len(openalex_ids)} OpenAlex entries...\")\n",
    "\n",
    "    start = time()\n",
    "    results = await fetch_all_batches(openalex_ids)\n",
    "    duration = time() - start\n",
    "    print(f\"✅ Done! Fetched {len(results)} results in {duration:.2f} seconds.\")\n",
    "\n",
    "    if EXPORT_CSV and results:\n",
    "        df = pd.DataFrame(results)\n",
    "        df.to_csv(CSV_PATH, index=False)\n",
    "        print(f\"📁 Saved to {CSV_PATH}\")\n",
    "\n",
    "\n",
    "# Run it\n",
    "asyncio.run(main())\n"
   ]
  },
  {
   "cell_type": "code",
   "execution_count": null,
   "id": "0b0c5be0",
   "metadata": {},
   "outputs": [
    {
     "data": {
      "application/vnd.jupyter.widget-view+json": {
       "model_id": "dc47bbf1c1ed4aa8a84889cb5a4ffbf3",
       "version_major": 2,
       "version_minor": 0
      },
      "text/plain": [
       "Filter (num_proc=20):   0%|          | 0/5251 [00:00<?, ? examples/s]"
      ]
     },
     "metadata": {},
     "output_type": "display_data"
    }
   ],
   "source": [
    "clean_pos=pos_ds_list[0].filter(lambda batch : [batch['doi'][i] is None and batch['Item Type'][i] == 'journalArticle' and (batch['title'][i] is not None or batch['abstract'][i] is not None) for i in range(len(batch['doi']))],batched=True,batch_size=1000,num_proc=20)"
   ]
  },
  {
   "cell_type": "code",
   "execution_count": null,
   "id": "d9d2481e",
   "metadata": {},
   "outputs": [
    {
     "name": "stdout",
     "output_type": "stream",
     "text": [
      "Dataset({\n",
      "    features: ['doi', 'title', 'abstract', 'Item Type', 'Publication Year'],\n",
      "    num_rows: 328\n",
      "})\n"
     ]
    }
   ],
   "source": [
    "print(clean_pos)"
   ]
  },
  {
   "cell_type": "code",
   "execution_count": null,
   "id": "648425f7",
   "metadata": {},
   "outputs": [
    {
     "data": {
      "application/vnd.jupyter.widget-view+json": {
       "model_id": "1be33bd6514340b4a92620fa77668526",
       "version_major": 2,
       "version_minor": 0
      },
      "text/plain": [
       "Filter (num_proc=20):   0%|          | 0/5251 [00:00<?, ? examples/s]"
      ]
     },
     "metadata": {},
     "output_type": "display_data"
    }
   ],
   "source": [
    "clean_pos_a=pos_ds_list[0].filter(lambda batch : [batch['doi'][i] is not None and batch['Item Type'][i] == 'journalArticle' for i in range(len(batch['doi']))],batched=True,batch_size=1000,num_proc=20)"
   ]
  },
  {
   "cell_type": "code",
   "execution_count": null,
   "id": "35fe233d",
   "metadata": {},
   "outputs": [
    {
     "name": "stdout",
     "output_type": "stream",
     "text": [
      "Dataset({\n",
      "    features: ['doi', 'title', 'abstract', 'Item Type', 'Publication Year'],\n",
      "    num_rows: 3829\n",
      "})\n"
     ]
    }
   ],
   "source": [
    "print(clean_pos_a)"
   ]
  },
  {
   "cell_type": "code",
   "execution_count": null,
   "id": "9e3ce940",
   "metadata": {},
   "outputs": [
    {
     "data": {
      "application/vnd.jupyter.widget-view+json": {
       "model_id": "bcf759d587af4a0a89807338e0836c34",
       "version_major": 2,
       "version_minor": 0
      },
      "text/plain": [
       "Filter (num_proc=20):   0%|          | 0/3829 [00:00<?, ? examples/s]"
      ]
     },
     "metadata": {},
     "output_type": "display_data"
    },
    {
     "name": "stdout",
     "output_type": "stream",
     "text": [
      "Dataset({\n",
      "    features: ['doi', 'title', 'abstract', 'Item Type', 'Publication Year'],\n",
      "    num_rows: 2253\n",
      "})\n"
     ]
    }
   ],
   "source": [
    "clean_pos_b=clean_pos_a.filter(lambda batch : [(batch['abstract'][i] is not None and batch['title'][i] is not None) for i in range(len(batch['doi']))],batched=True,batch_size=1000,num_proc=20)\n",
    "print(clean_pos_b)"
   ]
  },
  {
   "cell_type": "code",
   "execution_count": null,
   "id": "e68d47b4",
   "metadata": {},
   "outputs": [
    {
     "data": {
      "application/vnd.jupyter.widget-view+json": {
       "model_id": "cd4422f20c1e40efa624ef1871fe2450",
       "version_major": 2,
       "version_minor": 0
      },
      "text/plain": [
       "Filter (num_proc=20):   0%|          | 0/3829 [00:00<?, ? examples/s]"
      ]
     },
     "metadata": {},
     "output_type": "display_data"
    },
    {
     "name": "stdout",
     "output_type": "stream",
     "text": [
      "Dataset({\n",
      "    features: ['doi', 'title', 'abstract', 'Item Type', 'Publication Year'],\n",
      "    num_rows: 1576\n",
      "})\n"
     ]
    }
   ],
   "source": [
    "none_abs=clean_pos_a.filter(lambda batch : [batch['abstract'][i] is None or batch['title'][i] is None for i in range(len(batch['doi']))],batched=True,batch_size=1000,num_proc=20)\n",
    "print(none_abs)"
   ]
  },
  {
   "cell_type": "code",
   "execution_count": null,
   "id": "5013ecbb",
   "metadata": {},
   "outputs": [
    {
     "name": "stdout",
     "output_type": "stream",
     "text": [
      "{'doi': 'https://doi.org/10.1890/02-5002', 'title': 'Fire and grazing impacts on plant diversity and alien plant invasions in the southern Sierra Nevada', 'abstract': None, 'Item Type': 'journalArticle', 'Publication Year': 2003}\n"
     ]
    }
   ],
   "source": [
    "print(none_abs[2])"
   ]
  },
  {
   "cell_type": "code",
   "execution_count": null,
   "id": "5f69bf1f",
   "metadata": {},
   "outputs": [
    {
     "data": {
      "application/vnd.jupyter.widget-view+json": {
       "model_id": "f6a7e05acb9047688ef9baf23fd8ce87",
       "version_major": 2,
       "version_minor": 0
      },
      "text/plain": [
       "Filter (num_proc=20):   0%|          | 0/4227131 [00:00<?, ? examples/s]"
      ]
     },
     "metadata": {},
     "output_type": "display_data"
    },
    {
     "name": "stdout",
     "output_type": "stream",
     "text": [
      "Dataset({\n",
      "    features: ['id', 'display_name', 'author', 'ab', 'doi', 'topics', 'author_abbr'],\n",
      "    num_rows: 0\n",
      "})\n"
     ]
    }
   ],
   "source": [
    "none_abs_instance=neg_ds.filter(lambda batch : [batch['display_name'][i] == 'Germination and early growth of Ailanthus< and tulip poplar in three levels of forest disturbance' if batch['display_name'][i] is not None else False for i in range(len(batch['doi']))],batched=True,batch_size=1000,num_proc=20)\n",
    "print(none_abs_instance)"
   ]
  },
  {
   "cell_type": "code",
   "execution_count": null,
   "id": "3add51e9",
   "metadata": {},
   "outputs": [
    {
     "data": {
      "application/vnd.jupyter.widget-view+json": {
       "model_id": "954b722f81ec4a498a3c88adb2792281",
       "version_major": 2,
       "version_minor": 0
      },
      "text/plain": [
       "Filter (num_proc=30):   0%|          | 0/4227131 [00:00<?, ? examples/s]"
      ]
     },
     "metadata": {},
     "output_type": "display_data"
    },
    {
     "name": "stderr",
     "output_type": "stream",
     "text": [
      "Process ForkPoolWorker-124:\n",
      "Process ForkPoolWorker-138:\n",
      "Process ForkPoolWorker-148:\n",
      "Process ForkPoolWorker-149:\n",
      "Process ForkPoolWorker-150:\n",
      "Process ForkPoolWorker-145:\n",
      "Process ForkPoolWorker-123:\n",
      "Process ForkPoolWorker-140:\n",
      "Process ForkPoolWorker-122:\n",
      "Process ForkPoolWorker-139:\n",
      "Process ForkPoolWorker-130:\n",
      "Process ForkPoolWorker-136:\n",
      "Process ForkPoolWorker-125:\n",
      "Process ForkPoolWorker-126:\n",
      "Process ForkPoolWorker-128:\n",
      "Process ForkPoolWorker-127:\n",
      "Process ForkPoolWorker-137:\n",
      "Process ForkPoolWorker-135:\n",
      "Process ForkPoolWorker-129:\n",
      "Process ForkPoolWorker-121:\n",
      "Process ForkPoolWorker-146:\n",
      "Traceback (most recent call last):\n",
      "Process ForkPoolWorker-131:\n",
      "Process ForkPoolWorker-132:\n",
      "  File \"/home/leandre/Projects/BioMoQA_Playground/.venv/lib/python3.11/site-packages/multiprocess/process.py\", line 314, in _bootstrap\n",
      "    self.run()\n",
      "Traceback (most recent call last):\n",
      "Traceback (most recent call last):\n",
      "Process ForkPoolWorker-147:\n",
      "Traceback (most recent call last):\n",
      "  File \"/home/leandre/Projects/BioMoQA_Playground/.venv/lib/python3.11/site-packages/multiprocess/process.py\", line 108, in run\n",
      "    self._target(*self._args, **self._kwargs)\n",
      "Process ForkPoolWorker-141:\n",
      "  File \"/home/leandre/Projects/BioMoQA_Playground/.venv/lib/python3.11/site-packages/multiprocess/pool.py\", line 114, in worker\n",
      "    task = get()\n",
      "           ^^^^^\n",
      "  File \"/home/leandre/Projects/BioMoQA_Playground/.venv/lib/python3.11/site-packages/multiprocess/process.py\", line 314, in _bootstrap\n",
      "    self.run()\n",
      "  File \"/home/leandre/Projects/BioMoQA_Playground/.venv/lib/python3.11/site-packages/multiprocess/process.py\", line 314, in _bootstrap\n",
      "    self.run()\n",
      "Process ForkPoolWorker-144:\n",
      "Traceback (most recent call last):\n",
      "Process ForkPoolWorker-133:\n",
      "Traceback (most recent call last):\n",
      "  File \"/home/leandre/Projects/BioMoQA_Playground/.venv/lib/python3.11/site-packages/multiprocess/process.py\", line 314, in _bootstrap\n",
      "    self.run()\n",
      "  File \"/home/leandre/Projects/BioMoQA_Playground/.venv/lib/python3.11/site-packages/multiprocess/queues.py\", line 368, in get\n",
      "    res = self._reader.recv_bytes()\n",
      "          ^^^^^^^^^^^^^^^^^^^^^^^^^\n",
      "Process ForkPoolWorker-134:\n",
      "  File \"/home/leandre/Projects/BioMoQA_Playground/.venv/lib/python3.11/site-packages/multiprocess/process.py\", line 108, in run\n",
      "    self._target(*self._args, **self._kwargs)\n",
      "  File \"/home/leandre/Projects/BioMoQA_Playground/.venv/lib/python3.11/site-packages/multiprocess/process.py\", line 108, in run\n",
      "    self._target(*self._args, **self._kwargs)\n",
      "  File \"/home/leandre/Projects/BioMoQA_Playground/.venv/lib/python3.11/site-packages/multiprocess/process.py\", line 108, in run\n",
      "    self._target(*self._args, **self._kwargs)\n",
      "  File \"/home/leandre/Projects/BioMoQA_Playground/.venv/lib/python3.11/site-packages/multiprocess/connection.py\", line 219, in recv_bytes\n",
      "    buf = self._recv_bytes(maxlength)\n",
      "          ^^^^^^^^^^^^^^^^^^^^^^^^^^^\n",
      "  File \"/home/leandre/Projects/BioMoQA_Playground/.venv/lib/python3.11/site-packages/multiprocess/process.py\", line 314, in _bootstrap\n",
      "    self.run()\n",
      "  File \"/home/leandre/Projects/BioMoQA_Playground/.venv/lib/python3.11/site-packages/multiprocess/pool.py\", line 125, in worker\n",
      "    result = (True, func(*args, **kwds))\n",
      "                    ^^^^^^^^^^^^^^^^^^^\n",
      "  File \"/home/leandre/Projects/BioMoQA_Playground/.venv/lib/python3.11/site-packages/multiprocess/pool.py\", line 125, in worker\n",
      "    result = (True, func(*args, **kwds))\n",
      "                    ^^^^^^^^^^^^^^^^^^^\n",
      "  File \"/home/leandre/Projects/BioMoQA_Playground/.venv/lib/python3.11/site-packages/multiprocess/process.py\", line 314, in _bootstrap\n",
      "    self.run()\n",
      "  File \"/home/leandre/Projects/BioMoQA_Playground/.venv/lib/python3.11/site-packages/multiprocess/pool.py\", line 125, in worker\n",
      "    result = (True, func(*args, **kwds))\n",
      "                    ^^^^^^^^^^^^^^^^^^^\n",
      "  File \"/home/leandre/Projects/BioMoQA_Playground/.venv/lib/python3.11/site-packages/multiprocess/connection.py\", line 433, in _recv_bytes\n",
      "    buf = self._recv(4)\n",
      "          ^^^^^^^^^^^^^\n",
      "  File \"/home/leandre/Projects/BioMoQA_Playground/.venv/lib/python3.11/site-packages/multiprocess/process.py\", line 108, in run\n",
      "    self._target(*self._args, **self._kwargs)\n",
      "Traceback (most recent call last):\n",
      "  File \"/home/leandre/Projects/BioMoQA_Playground/.venv/lib/python3.11/site-packages/datasets/utils/py_utils.py\", line 680, in _write_generator_to_queue\n",
      "    for i, result in enumerate(func(**kwargs)):\n",
      "  File \"/home/leandre/Projects/BioMoQA_Playground/.venv/lib/python3.11/site-packages/datasets/utils/py_utils.py\", line 680, in _write_generator_to_queue\n",
      "    for i, result in enumerate(func(**kwargs)):\n",
      "  File \"/home/leandre/Projects/BioMoQA_Playground/.venv/lib/python3.11/site-packages/datasets/utils/py_utils.py\", line 680, in _write_generator_to_queue\n",
      "    for i, result in enumerate(func(**kwargs)):\n",
      "  File \"/home/leandre/Projects/BioMoQA_Playground/.venv/lib/python3.11/site-packages/multiprocess/process.py\", line 108, in run\n",
      "    self._target(*self._args, **self._kwargs)\n",
      "  File \"/home/leandre/Projects/BioMoQA_Playground/.venv/lib/python3.11/site-packages/multiprocess/connection.py\", line 398, in _recv\n",
      "    chunk = read(handle, remaining)\n",
      "            ^^^^^^^^^^^^^^^^^^^^^^^\n",
      "Traceback (most recent call last):\n",
      "  File \"/home/leandre/Projects/BioMoQA_Playground/.venv/lib/python3.11/site-packages/datasets/arrow_dataset.py\", line 3516, in _map_single\n",
      "    for i, batch in iter_outputs(shard_iterable):\n",
      "  File \"/home/leandre/Projects/BioMoQA_Playground/.venv/lib/python3.11/site-packages/multiprocess/pool.py\", line 125, in worker\n",
      "    result = (True, func(*args, **kwds))\n",
      "                    ^^^^^^^^^^^^^^^^^^^\n",
      "  File \"/home/leandre/Projects/BioMoQA_Playground/.venv/lib/python3.11/site-packages/datasets/arrow_dataset.py\", line 3516, in _map_single\n",
      "    for i, batch in iter_outputs(shard_iterable):\n",
      "  File \"/home/leandre/Projects/BioMoQA_Playground/.venv/lib/python3.11/site-packages/multiprocess/pool.py\", line 125, in worker\n",
      "    result = (True, func(*args, **kwds))\n",
      "                    ^^^^^^^^^^^^^^^^^^^\n",
      "  File \"/home/leandre/Projects/BioMoQA_Playground/.venv/lib/python3.11/site-packages/datasets/arrow_dataset.py\", line 3516, in _map_single\n",
      "    for i, batch in iter_outputs(shard_iterable):\n",
      "KeyboardInterrupt\n",
      "Traceback (most recent call last):\n",
      "  File \"/home/leandre/Projects/BioMoQA_Playground/.venv/lib/python3.11/site-packages/multiprocess/process.py\", line 314, in _bootstrap\n",
      "    self.run()\n",
      "Traceback (most recent call last):\n",
      "  File \"/home/leandre/Projects/BioMoQA_Playground/.venv/lib/python3.11/site-packages/datasets/arrow_dataset.py\", line 3466, in iter_outputs\n",
      "    yield i, apply_function(example, i, offset=offset)\n",
      "             ^^^^^^^^^^^^^^^^^^^^^^^^^^^^^^^^^^^^^^^^^\n",
      "  File \"/home/leandre/Projects/BioMoQA_Playground/.venv/lib/python3.11/site-packages/datasets/arrow_dataset.py\", line 3466, in iter_outputs\n",
      "    yield i, apply_function(example, i, offset=offset)\n",
      "             ^^^^^^^^^^^^^^^^^^^^^^^^^^^^^^^^^^^^^^^^^\n",
      "  File \"/home/leandre/Projects/BioMoQA_Playground/.venv/lib/python3.11/site-packages/datasets/utils/py_utils.py\", line 680, in _write_generator_to_queue\n",
      "    for i, result in enumerate(func(**kwargs)):\n",
      "  File \"/home/leandre/Projects/BioMoQA_Playground/.venv/lib/python3.11/site-packages/multiprocess/process.py\", line 314, in _bootstrap\n",
      "    self.run()\n",
      "  File \"/home/leandre/Projects/BioMoQA_Playground/.venv/lib/python3.11/site-packages/datasets/utils/py_utils.py\", line 680, in _write_generator_to_queue\n",
      "    for i, result in enumerate(func(**kwargs)):\n",
      "Traceback (most recent call last):\n",
      "  File \"/home/leandre/Projects/BioMoQA_Playground/.venv/lib/python3.11/site-packages/datasets/arrow_dataset.py\", line 3466, in iter_outputs\n",
      "    yield i, apply_function(example, i, offset=offset)\n",
      "             ^^^^^^^^^^^^^^^^^^^^^^^^^^^^^^^^^^^^^^^^^\n",
      "  File \"/home/leandre/Projects/BioMoQA_Playground/.venv/lib/python3.11/site-packages/multiprocess/process.py\", line 108, in run\n",
      "    self._target(*self._args, **self._kwargs)\n",
      "  File \"/home/leandre/Projects/BioMoQA_Playground/.venv/lib/python3.11/site-packages/datasets/arrow_dataset.py\", line 3389, in apply_function\n",
      "    processed_inputs = function(*fn_args, *additional_args, **fn_kwargs)\n",
      "                       ^^^^^^^^^^^^^^^^^^^^^^^^^^^^^^^^^^^^^^^^^^^^^^^^^\n",
      "  File \"/home/leandre/Projects/BioMoQA_Playground/.venv/lib/python3.11/site-packages/multiprocess/process.py\", line 314, in _bootstrap\n",
      "    self.run()\n",
      "  File \"/home/leandre/Projects/BioMoQA_Playground/.venv/lib/python3.11/site-packages/datasets/arrow_dataset.py\", line 3516, in _map_single\n",
      "    for i, batch in iter_outputs(shard_iterable):\n",
      "  File \"/home/leandre/Projects/BioMoQA_Playground/.venv/lib/python3.11/site-packages/datasets/arrow_dataset.py\", line 3389, in apply_function\n",
      "    processed_inputs = function(*fn_args, *additional_args, **fn_kwargs)\n",
      "                       ^^^^^^^^^^^^^^^^^^^^^^^^^^^^^^^^^^^^^^^^^^^^^^^^^\n",
      "  File \"/home/leandre/Projects/BioMoQA_Playground/.venv/lib/python3.11/site-packages/datasets/arrow_dataset.py\", line 3516, in _map_single\n",
      "    for i, batch in iter_outputs(shard_iterable):\n",
      "  File \"/home/leandre/Projects/BioMoQA_Playground/.venv/lib/python3.11/site-packages/multiprocess/process.py\", line 108, in run\n",
      "    self._target(*self._args, **self._kwargs)\n",
      "  File \"/home/leandre/Projects/BioMoQA_Playground/.venv/lib/python3.11/site-packages/multiprocess/process.py\", line 314, in _bootstrap\n",
      "    self.run()\n",
      "  File \"/home/leandre/Projects/BioMoQA_Playground/.venv/lib/python3.11/site-packages/datasets/arrow_dataset.py\", line 3389, in apply_function\n",
      "    processed_inputs = function(*fn_args, *additional_args, **fn_kwargs)\n",
      "                       ^^^^^^^^^^^^^^^^^^^^^^^^^^^^^^^^^^^^^^^^^^^^^^^^^\n",
      "  File \"/home/leandre/Projects/BioMoQA_Playground/.venv/lib/python3.11/site-packages/multiprocess/pool.py\", line 125, in worker\n",
      "    result = (True, func(*args, **kwds))\n",
      "                    ^^^^^^^^^^^^^^^^^^^\n",
      "  File \"/home/leandre/Projects/BioMoQA_Playground/.venv/lib/python3.11/site-packages/datasets/arrow_dataset.py\", line 6400, in get_indices_from_mask_function\n",
      "    mask = function(*inputs, *additional_args, **fn_kwargs)\n",
      "           ^^^^^^^^^^^^^^^^^^^^^^^^^^^^^^^^^^^^^^^^^^^^^^^^\n",
      "  File \"/home/leandre/Projects/BioMoQA_Playground/.venv/lib/python3.11/site-packages/multiprocess/process.py\", line 108, in run\n",
      "    self._target(*self._args, **self._kwargs)\n",
      "  File \"/home/leandre/Projects/BioMoQA_Playground/.venv/lib/python3.11/site-packages/datasets/arrow_dataset.py\", line 3466, in iter_outputs\n",
      "    yield i, apply_function(example, i, offset=offset)\n",
      "             ^^^^^^^^^^^^^^^^^^^^^^^^^^^^^^^^^^^^^^^^^\n",
      "  File \"/home/leandre/Projects/BioMoQA_Playground/.venv/lib/python3.11/site-packages/datasets/arrow_dataset.py\", line 6400, in get_indices_from_mask_function\n",
      "    mask = function(*inputs, *additional_args, **fn_kwargs)\n",
      "           ^^^^^^^^^^^^^^^^^^^^^^^^^^^^^^^^^^^^^^^^^^^^^^^^\n",
      "  File \"/home/leandre/Projects/BioMoQA_Playground/.venv/lib/python3.11/site-packages/multiprocess/process.py\", line 314, in _bootstrap\n",
      "    self.run()\n",
      "  File \"/home/leandre/Projects/BioMoQA_Playground/.venv/lib/python3.11/site-packages/datasets/arrow_dataset.py\", line 3466, in iter_outputs\n",
      "    yield i, apply_function(example, i, offset=offset)\n",
      "             ^^^^^^^^^^^^^^^^^^^^^^^^^^^^^^^^^^^^^^^^^\n",
      "  File \"/home/leandre/Projects/BioMoQA_Playground/.venv/lib/python3.11/site-packages/multiprocess/pool.py\", line 125, in worker\n",
      "    result = (True, func(*args, **kwds))\n",
      "                    ^^^^^^^^^^^^^^^^^^^\n",
      "Process ForkPoolWorker-143:\n",
      "  File \"/home/leandre/Projects/BioMoQA_Playground/.venv/lib/python3.11/site-packages/multiprocess/process.py\", line 108, in run\n",
      "    self._target(*self._args, **self._kwargs)\n",
      "  File \"/home/leandre/Projects/BioMoQA_Playground/.venv/lib/python3.11/site-packages/datasets/arrow_dataset.py\", line 6400, in get_indices_from_mask_function\n",
      "    mask = function(*inputs, *additional_args, **fn_kwargs)\n",
      "           ^^^^^^^^^^^^^^^^^^^^^^^^^^^^^^^^^^^^^^^^^^^^^^^^\n",
      "  File \"/home/leandre/Projects/BioMoQA_Playground/.venv/lib/python3.11/site-packages/datasets/utils/py_utils.py\", line 680, in _write_generator_to_queue\n",
      "    for i, result in enumerate(func(**kwargs)):\n",
      "  File \"/tmp/ipykernel_26987/559633212.py\", line 3, in <lambda>\n",
      "    none_abs_instance=neg_ds.filter(lambda batch : [any(batch['doi'][i].endswith(p_doi) for p_doi in pos_doi_set) if batch['doi'][i] is not None else False for i in range(len(batch['doi']))],batched=True,batch_size=1000,num_proc=30)\n",
      "                                                   ^^^^^^^^^^^^^^^^^^^^^^^^^^^^^^^^^^^^^^^^^^^^^^^^^^^^^^^^^^^^^^^^^^^^^^^^^^^^^^^^^^^^^^^^^^^^^^^^^^^^^^^^^^^^^^^^^^^^^^^^^^^^^^^^^^^^^^^^^^^\n",
      "  File \"/home/leandre/Projects/BioMoQA_Playground/.venv/lib/python3.11/site-packages/multiprocess/pool.py\", line 125, in worker\n",
      "    result = (True, func(*args, **kwds))\n",
      "                    ^^^^^^^^^^^^^^^^^^^\n",
      "  File \"/tmp/ipykernel_26987/559633212.py\", line 3, in <lambda>\n",
      "    none_abs_instance=neg_ds.filter(lambda batch : [any(batch['doi'][i].endswith(p_doi) for p_doi in pos_doi_set) if batch['doi'][i] is not None else False for i in range(len(batch['doi']))],batched=True,batch_size=1000,num_proc=30)\n",
      "                                                   ^^^^^^^^^^^^^^^^^^^^^^^^^^^^^^^^^^^^^^^^^^^^^^^^^^^^^^^^^^^^^^^^^^^^^^^^^^^^^^^^^^^^^^^^^^^^^^^^^^^^^^^^^^^^^^^^^^^^^^^^^^^^^^^^^^^^^^^^^^^\n",
      "  File \"/home/leandre/Projects/BioMoQA_Playground/.venv/lib/python3.11/site-packages/datasets/arrow_dataset.py\", line 3389, in apply_function\n",
      "    processed_inputs = function(*fn_args, *additional_args, **fn_kwargs)\n",
      "                       ^^^^^^^^^^^^^^^^^^^^^^^^^^^^^^^^^^^^^^^^^^^^^^^^^\n",
      "  File \"/home/leandre/Projects/BioMoQA_Playground/.venv/lib/python3.11/site-packages/multiprocess/process.py\", line 108, in run\n",
      "    self._target(*self._args, **self._kwargs)\n",
      "  File \"/home/leandre/Projects/BioMoQA_Playground/.venv/lib/python3.11/site-packages/datasets/utils/py_utils.py\", line 680, in _write_generator_to_queue\n",
      "    for i, result in enumerate(func(**kwargs)):\n",
      "  File \"/home/leandre/Projects/BioMoQA_Playground/.venv/lib/python3.11/site-packages/datasets/arrow_dataset.py\", line 3389, in apply_function\n",
      "    processed_inputs = function(*fn_args, *additional_args, **fn_kwargs)\n",
      "                       ^^^^^^^^^^^^^^^^^^^^^^^^^^^^^^^^^^^^^^^^^^^^^^^^^\n",
      "  File \"/home/leandre/Projects/BioMoQA_Playground/.venv/lib/python3.11/site-packages/multiprocess/pool.py\", line 125, in worker\n",
      "    result = (True, func(*args, **kwds))\n",
      "                    ^^^^^^^^^^^^^^^^^^^\n",
      "  File \"/tmp/ipykernel_26987/559633212.py\", line 3, in <lambda>\n",
      "    none_abs_instance=neg_ds.filter(lambda batch : [any(batch['doi'][i].endswith(p_doi) for p_doi in pos_doi_set) if batch['doi'][i] is not None else False for i in range(len(batch['doi']))],batched=True,batch_size=1000,num_proc=30)\n",
      "                                                   ^^^^^^^^^^^^^^^^^^^^^^^^^^^^^^^^^^^^^^^^^^^^^^^^^^^^^^^^^^^^^^^^^^^^^^^^^^^^^^^^^^^^^^^^^^^^^^^^^^^^^^^^^^^^^^^^^^^^^^^^^^^^^^^^^^^^^^^^^^^\n",
      "  File \"/home/leandre/Projects/BioMoQA_Playground/.venv/lib/python3.11/site-packages/datasets/arrow_dataset.py\", line 3516, in _map_single\n",
      "    for i, batch in iter_outputs(shard_iterable):\n",
      "  File \"/tmp/ipykernel_26987/559633212.py\", line 3, in <listcomp>\n",
      "    none_abs_instance=neg_ds.filter(lambda batch : [any(batch['doi'][i].endswith(p_doi) for p_doi in pos_doi_set) if batch['doi'][i] is not None else False for i in range(len(batch['doi']))],batched=True,batch_size=1000,num_proc=30)\n",
      "                                                    ^^^^^^^^^^^^^^^^^^^^^^^^^^^^^^^^^^^^^^^^^^^^^^^^^^^^^^^^^^^^^\n",
      "  File \"/home/leandre/Projects/BioMoQA_Playground/.venv/lib/python3.11/site-packages/datasets/utils/py_utils.py\", line 680, in _write_generator_to_queue\n",
      "    for i, result in enumerate(func(**kwargs)):\n",
      "  File \"/tmp/ipykernel_26987/559633212.py\", line 3, in <listcomp>\n",
      "    none_abs_instance=neg_ds.filter(lambda batch : [any(batch['doi'][i].endswith(p_doi) for p_doi in pos_doi_set) if batch['doi'][i] is not None else False for i in range(len(batch['doi']))],batched=True,batch_size=1000,num_proc=30)\n",
      "                                                    ^^^^^^^^^^^^^^^^^^^^^^^^^^^^^^^^^^^^^^^^^^^^^^^^^^^^^^^^^^^^^\n",
      "  File \"/home/leandre/Projects/BioMoQA_Playground/.venv/lib/python3.11/site-packages/datasets/arrow_dataset.py\", line 6400, in get_indices_from_mask_function\n",
      "    mask = function(*inputs, *additional_args, **fn_kwargs)\n",
      "           ^^^^^^^^^^^^^^^^^^^^^^^^^^^^^^^^^^^^^^^^^^^^^^^^\n",
      "  File \"/home/leandre/Projects/BioMoQA_Playground/.venv/lib/python3.11/site-packages/multiprocess/pool.py\", line 125, in worker\n",
      "    result = (True, func(*args, **kwds))\n",
      "                    ^^^^^^^^^^^^^^^^^^^\n",
      "  File \"/home/leandre/Projects/BioMoQA_Playground/.venv/lib/python3.11/site-packages/datasets/arrow_dataset.py\", line 3516, in _map_single\n",
      "    for i, batch in iter_outputs(shard_iterable):\n",
      "  File \"/home/leandre/Projects/BioMoQA_Playground/.venv/lib/python3.11/site-packages/datasets/arrow_dataset.py\", line 6400, in get_indices_from_mask_function\n",
      "    mask = function(*inputs, *additional_args, **fn_kwargs)\n",
      "           ^^^^^^^^^^^^^^^^^^^^^^^^^^^^^^^^^^^^^^^^^^^^^^^^\n",
      "  File \"/home/leandre/Projects/BioMoQA_Playground/.venv/lib/python3.11/site-packages/datasets/utils/py_utils.py\", line 680, in _write_generator_to_queue\n",
      "    for i, result in enumerate(func(**kwargs)):\n",
      "  File \"/tmp/ipykernel_26987/559633212.py\", line 3, in <listcomp>\n",
      "    none_abs_instance=neg_ds.filter(lambda batch : [any(batch['doi'][i].endswith(p_doi) for p_doi in pos_doi_set) if batch['doi'][i] is not None else False for i in range(len(batch['doi']))],batched=True,batch_size=1000,num_proc=30)\n",
      "                                                    ^^^^^^^^^^^^^^^^^^^^^^^^^^^^^^^^^^^^^^^^^^^^^^^^^^^^^^^^^^^^^\n",
      "  File \"/home/leandre/Projects/BioMoQA_Playground/.venv/lib/python3.11/site-packages/datasets/arrow_dataset.py\", line 3466, in iter_outputs\n",
      "    yield i, apply_function(example, i, offset=offset)\n",
      "             ^^^^^^^^^^^^^^^^^^^^^^^^^^^^^^^^^^^^^^^^^\n",
      "  File \"/home/leandre/Projects/BioMoQA_Playground/.venv/lib/python3.11/site-packages/datasets/arrow_dataset.py\", line 3516, in _map_single\n",
      "    for i, batch in iter_outputs(shard_iterable):\n",
      "  File \"/tmp/ipykernel_26987/559633212.py\", line 3, in <genexpr>\n",
      "    none_abs_instance=neg_ds.filter(lambda batch : [any(batch['doi'][i].endswith(p_doi) for p_doi in pos_doi_set) if batch['doi'][i] is not None else False for i in range(len(batch['doi']))],batched=True,batch_size=1000,num_proc=30)\n",
      "                                                        ^^^^^^^^^^^^^^^^^^^^^^^^^^^^^^^\n",
      "  File \"/tmp/ipykernel_26987/559633212.py\", line 3, in <lambda>\n",
      "    none_abs_instance=neg_ds.filter(lambda batch : [any(batch['doi'][i].endswith(p_doi) for p_doi in pos_doi_set) if batch['doi'][i] is not None else False for i in range(len(batch['doi']))],batched=True,batch_size=1000,num_proc=30)\n",
      "                                                   ^^^^^^^^^^^^^^^^^^^^^^^^^^^^^^^^^^^^^^^^^^^^^^^^^^^^^^^^^^^^^^^^^^^^^^^^^^^^^^^^^^^^^^^^^^^^^^^^^^^^^^^^^^^^^^^^^^^^^^^^^^^^^^^^^^^^^^^^^^^\n",
      "Process ForkPoolWorker-142:\n",
      "  File \"/home/leandre/Projects/BioMoQA_Playground/.venv/lib/python3.11/site-packages/datasets/utils/py_utils.py\", line 680, in _write_generator_to_queue\n",
      "    for i, result in enumerate(func(**kwargs)):\n",
      "  File \"/tmp/ipykernel_26987/559633212.py\", line 3, in <genexpr>\n",
      "    none_abs_instance=neg_ds.filter(lambda batch : [any(batch['doi'][i].endswith(p_doi) for p_doi in pos_doi_set) if batch['doi'][i] is not None else False for i in range(len(batch['doi']))],batched=True,batch_size=1000,num_proc=30)\n",
      "                                                        ^^^^^^^^^^^^^^^^^^^^^^^^^^^^^^^\n",
      "  File \"/home/leandre/Projects/BioMoQA_Playground/.venv/lib/python3.11/site-packages/datasets/arrow_dataset.py\", line 3466, in iter_outputs\n",
      "    yield i, apply_function(example, i, offset=offset)\n",
      "             ^^^^^^^^^^^^^^^^^^^^^^^^^^^^^^^^^^^^^^^^^\n",
      "  File \"/tmp/ipykernel_26987/559633212.py\", line 3, in <lambda>\n",
      "    none_abs_instance=neg_ds.filter(lambda batch : [any(batch['doi'][i].endswith(p_doi) for p_doi in pos_doi_set) if batch['doi'][i] is not None else False for i in range(len(batch['doi']))],batched=True,batch_size=1000,num_proc=30)\n",
      "                                                   ^^^^^^^^^^^^^^^^^^^^^^^^^^^^^^^^^^^^^^^^^^^^^^^^^^^^^^^^^^^^^^^^^^^^^^^^^^^^^^^^^^^^^^^^^^^^^^^^^^^^^^^^^^^^^^^^^^^^^^^^^^^^^^^^^^^^^^^^^^^\n",
      "  File \"/tmp/ipykernel_26987/559633212.py\", line 3, in <genexpr>\n",
      "    none_abs_instance=neg_ds.filter(lambda batch : [any(batch['doi'][i].endswith(p_doi) for p_doi in pos_doi_set) if batch['doi'][i] is not None else False for i in range(len(batch['doi']))],batched=True,batch_size=1000,num_proc=30)\n",
      "                                                        ~~~~~^^^^^^^\n",
      "  File \"/home/leandre/Projects/BioMoQA_Playground/.venv/lib/python3.11/site-packages/datasets/arrow_dataset.py\", line 3516, in _map_single\n",
      "    for i, batch in iter_outputs(shard_iterable):\n",
      "  File \"/home/leandre/Projects/BioMoQA_Playground/.venv/lib/python3.11/site-packages/datasets/arrow_dataset.py\", line 3389, in apply_function\n",
      "    processed_inputs = function(*fn_args, *additional_args, **fn_kwargs)\n",
      "                       ^^^^^^^^^^^^^^^^^^^^^^^^^^^^^^^^^^^^^^^^^^^^^^^^^\n",
      "  File \"/home/leandre/Projects/BioMoQA_Playground/.venv/lib/python3.11/site-packages/datasets/arrow_dataset.py\", line 3466, in iter_outputs\n",
      "    yield i, apply_function(example, i, offset=offset)\n",
      "             ^^^^^^^^^^^^^^^^^^^^^^^^^^^^^^^^^^^^^^^^^\n",
      "KeyboardInterrupt\n",
      "  File \"/tmp/ipykernel_26987/559633212.py\", line 3, in <listcomp>\n",
      "    none_abs_instance=neg_ds.filter(lambda batch : [any(batch['doi'][i].endswith(p_doi) for p_doi in pos_doi_set) if batch['doi'][i] is not None else False for i in range(len(batch['doi']))],batched=True,batch_size=1000,num_proc=30)\n",
      "                                                    ^^^^^^^^^^^^^^^^^^^^^^^^^^^^^^^^^^^^^^^^^^^^^^^^^^^^^^^^^^^^^\n",
      "Traceback (most recent call last):\n",
      "KeyboardInterrupt\n",
      "  File \"/home/leandre/Projects/BioMoQA_Playground/.venv/lib/python3.11/site-packages/datasets/arrow_dataset.py\", line 3516, in _map_single\n",
      "    for i, batch in iter_outputs(shard_iterable):\n",
      "  File \"/home/leandre/Projects/BioMoQA_Playground/.venv/lib/python3.11/site-packages/datasets/arrow_dataset.py\", line 3389, in apply_function\n",
      "    processed_inputs = function(*fn_args, *additional_args, **fn_kwargs)\n",
      "                       ^^^^^^^^^^^^^^^^^^^^^^^^^^^^^^^^^^^^^^^^^^^^^^^^^\n",
      "  File \"/tmp/ipykernel_26987/559633212.py\", line 3, in <listcomp>\n",
      "    none_abs_instance=neg_ds.filter(lambda batch : [any(batch['doi'][i].endswith(p_doi) for p_doi in pos_doi_set) if batch['doi'][i] is not None else False for i in range(len(batch['doi']))],batched=True,batch_size=1000,num_proc=30)\n",
      "                                                    ^^^^^^^^^^^^^^^^^^^^^^^^^^^^^^^^^^^^^^^^^^^^^^^^^^^^^^^^^^^^^\n",
      "  File \"/home/leandre/Projects/BioMoQA_Playground/.venv/lib/python3.11/site-packages/datasets/formatting/formatting.py\", line 279, in __getitem__\n",
      "    def __getitem__(self, key):\n",
      "    \n",
      "  File \"/home/leandre/Projects/BioMoQA_Playground/.venv/lib/python3.11/site-packages/datasets/arrow_dataset.py\", line 6400, in get_indices_from_mask_function\n",
      "    mask = function(*inputs, *additional_args, **fn_kwargs)\n",
      "           ^^^^^^^^^^^^^^^^^^^^^^^^^^^^^^^^^^^^^^^^^^^^^^^^\n",
      "  File \"/home/leandre/Projects/BioMoQA_Playground/.venv/lib/python3.11/site-packages/datasets/arrow_dataset.py\", line 3389, in apply_function\n",
      "    processed_inputs = function(*fn_args, *additional_args, **fn_kwargs)\n",
      "                       ^^^^^^^^^^^^^^^^^^^^^^^^^^^^^^^^^^^^^^^^^^^^^^^^^\n",
      "  File \"/home/leandre/Projects/BioMoQA_Playground/.venv/lib/python3.11/site-packages/datasets/arrow_dataset.py\", line 3465, in iter_outputs\n",
      "    for i, example in shard_iterable:\n",
      "  File \"/tmp/ipykernel_26987/559633212.py\", line 3, in <genexpr>\n",
      "    none_abs_instance=neg_ds.filter(lambda batch : [any(batch['doi'][i].endswith(p_doi) for p_doi in pos_doi_set) if batch['doi'][i] is not None else False for i in range(len(batch['doi']))],batched=True,batch_size=1000,num_proc=30)\n",
      "                                                       ^^^^^^^^^^^^^^^^^^^^^^^^^^^^^^^^^^^^^^^^^^^^^^^^^^^^^^^^^^\n",
      "  File \"/home/leandre/Projects/BioMoQA_Playground/.venv/lib/python3.11/site-packages/datasets/arrow_dataset.py\", line 3466, in iter_outputs\n",
      "    yield i, apply_function(example, i, offset=offset)\n",
      "             ^^^^^^^^^^^^^^^^^^^^^^^^^^^^^^^^^^^^^^^^^\n",
      "  File \"/home/leandre/Projects/BioMoQA_Playground/.venv/lib/python3.11/site-packages/datasets/arrow_dataset.py\", line 6400, in get_indices_from_mask_function\n",
      "    mask = function(*inputs, *additional_args, **fn_kwargs)\n",
      "           ^^^^^^^^^^^^^^^^^^^^^^^^^^^^^^^^^^^^^^^^^^^^^^^^\n",
      "  File \"/tmp/ipykernel_26987/559633212.py\", line 3, in <genexpr>\n",
      "    none_abs_instance=neg_ds.filter(lambda batch : [any(batch['doi'][i].endswith(p_doi) for p_doi in pos_doi_set) if batch['doi'][i] is not None else False for i in range(len(batch['doi']))],batched=True,batch_size=1000,num_proc=30)\n",
      "                                                        ^^^^^^^^^^^^^^^^^^^^^^^^^^^^^^^\n",
      "  File \"/home/leandre/Projects/BioMoQA_Playground/.venv/lib/python3.11/site-packages/multiprocess/process.py\", line 314, in _bootstrap\n",
      "    self.run()\n",
      "KeyboardInterrupt\n",
      "  File \"/tmp/ipykernel_26987/559633212.py\", line 3, in <lambda>\n",
      "    none_abs_instance=neg_ds.filter(lambda batch : [any(batch['doi'][i].endswith(p_doi) for p_doi in pos_doi_set) if batch['doi'][i] is not None else False for i in range(len(batch['doi']))],batched=True,batch_size=1000,num_proc=30)\n",
      "                                                   ^^^^^^^^^^^^^^^^^^^^^^^^^^^^^^^^^^^^^^^^^^^^^^^^^^^^^^^^^^^^^^^^^^^^^^^^^^^^^^^^^^^^^^^^^^^^^^^^^^^^^^^^^^^^^^^^^^^^^^^^^^^^^^^^^^^^^^^^^^^\n",
      "  File \"/home/leandre/Projects/BioMoQA_Playground/.venv/lib/python3.11/site-packages/datasets/arrow_dataset.py\", line 2417, in iter\n",
      "    for pa_subtable in table_iter(self.data, batch_size=batch_size, drop_last_batch=drop_last_batch):\n",
      "KeyboardInterrupt\n",
      "  File \"/home/leandre/Projects/BioMoQA_Playground/.venv/lib/python3.11/site-packages/datasets/arrow_dataset.py\", line 6400, in get_indices_from_mask_function\n",
      "    mask = function(*inputs, *additional_args, **fn_kwargs)\n",
      "           ^^^^^^^^^^^^^^^^^^^^^^^^^^^^^^^^^^^^^^^^^^^^^^^^\n",
      "  File \"/home/leandre/Projects/BioMoQA_Playground/.venv/lib/python3.11/site-packages/datasets/arrow_dataset.py\", line 3389, in apply_function\n",
      "    processed_inputs = function(*fn_args, *additional_args, **fn_kwargs)\n",
      "                       ^^^^^^^^^^^^^^^^^^^^^^^^^^^^^^^^^^^^^^^^^^^^^^^^^\n",
      "KeyboardInterrupt\n",
      "  File \"/tmp/ipykernel_26987/559633212.py\", line 3, in <lambda>\n",
      "    none_abs_instance=neg_ds.filter(lambda batch : [any(batch['doi'][i].endswith(p_doi) for p_doi in pos_doi_set) if batch['doi'][i] is not None else False for i in range(len(batch['doi']))],batched=True,batch_size=1000,num_proc=30)\n",
      "                                                   ^^^^^^^^^^^^^^^^^^^^^^^^^^^^^^^^^^^^^^^^^^^^^^^^^^^^^^^^^^^^^^^^^^^^^^^^^^^^^^^^^^^^^^^^^^^^^^^^^^^^^^^^^^^^^^^^^^^^^^^^^^^^^^^^^^^^^^^^^^^\n",
      "Traceback (most recent call last):\n",
      "  File \"/home/leandre/Projects/BioMoQA_Playground/.venv/lib/python3.11/site-packages/multiprocess/process.py\", line 108, in run\n",
      "    self._target(*self._args, **self._kwargs)\n",
      "  File \"/tmp/ipykernel_26987/559633212.py\", line 3, in <listcomp>\n",
      "    none_abs_instance=neg_ds.filter(lambda batch : [any(batch['doi'][i].endswith(p_doi) for p_doi in pos_doi_set) if batch['doi'][i] is not None else False for i in range(len(batch['doi']))],batched=True,batch_size=1000,num_proc=30)\n",
      "                                                    ^^^^^^^^^^^^^^^^^^^^^^^^^^^^^^^^^^^^^^^^^^^^^^^^^^^^^^^^^^^^^\n",
      "  File \"/home/leandre/Projects/BioMoQA_Playground/.venv/lib/python3.11/site-packages/datasets/table.py\", line 2409, in table_iter\n",
      "    yield pa.Table.from_batches(chunks_buffer)\n",
      "          ^^^^^^^^^^^^^^^^^^^^^^^^^^^^^^^^^^^^\n",
      "  File \"/home/leandre/Projects/BioMoQA_Playground/.venv/lib/python3.11/site-packages/datasets/arrow_dataset.py\", line 6400, in get_indices_from_mask_function\n",
      "    mask = function(*inputs, *additional_args, **fn_kwargs)\n",
      "           ^^^^^^^^^^^^^^^^^^^^^^^^^^^^^^^^^^^^^^^^^^^^^^^^\n",
      "  File \"/tmp/ipykernel_26987/559633212.py\", line 3, in <lambda>\n",
      "    none_abs_instance=neg_ds.filter(lambda batch : [any(batch['doi'][i].endswith(p_doi) for p_doi in pos_doi_set) if batch['doi'][i] is not None else False for i in range(len(batch['doi']))],batched=True,batch_size=1000,num_proc=30)\n",
      "                                                   ^^^^^^^^^^^^^^^^^^^^^^^^^^^^^^^^^^^^^^^^^^^^^^^^^^^^^^^^^^^^^^^^^^^^^^^^^^^^^^^^^^^^^^^^^^^^^^^^^^^^^^^^^^^^^^^^^^^^^^^^^^^^^^^^^^^^^^^^^^^\n",
      "  File \"/tmp/ipykernel_26987/559633212.py\", line 3, in <listcomp>\n",
      "    none_abs_instance=neg_ds.filter(lambda batch : [any(batch['doi'][i].endswith(p_doi) for p_doi in pos_doi_set) if batch['doi'][i] is not None else False for i in range(len(batch['doi']))],batched=True,batch_size=1000,num_proc=30)\n",
      "                                                    ^^^^^^^^^^^^^^^^^^^^^^^^^^^^^^^^^^^^^^^^^^^^^^^^^^^^^^^^^^^^^\n",
      "  File \"/tmp/ipykernel_26987/559633212.py\", line 3, in <genexpr>\n",
      "    none_abs_instance=neg_ds.filter(lambda batch : [any(batch['doi'][i].endswith(p_doi) for p_doi in pos_doi_set) if batch['doi'][i] is not None else False for i in range(len(batch['doi']))],batched=True,batch_size=1000,num_proc=30)\n",
      "                                                        ~~~~~^^^^^^^\n",
      "  File \"/home/leandre/Projects/BioMoQA_Playground/.venv/lib/python3.11/site-packages/multiprocess/pool.py\", line 125, in worker\n",
      "    result = (True, func(*args, **kwds))\n",
      "                    ^^^^^^^^^^^^^^^^^^^\n",
      "KeyboardInterrupt\n",
      "  File \"/tmp/ipykernel_26987/559633212.py\", line 3, in <lambda>\n",
      "    none_abs_instance=neg_ds.filter(lambda batch : [any(batch['doi'][i].endswith(p_doi) for p_doi in pos_doi_set) if batch['doi'][i] is not None else False for i in range(len(batch['doi']))],batched=True,batch_size=1000,num_proc=30)\n",
      "                                                   ^^^^^^^^^^^^^^^^^^^^^^^^^^^^^^^^^^^^^^^^^^^^^^^^^^^^^^^^^^^^^^^^^^^^^^^^^^^^^^^^^^^^^^^^^^^^^^^^^^^^^^^^^^^^^^^^^^^^^^^^^^^^^^^^^^^^^^^^^^^\n",
      "  File \"/tmp/ipykernel_26987/559633212.py\", line 3, in <listcomp>\n",
      "    none_abs_instance=neg_ds.filter(lambda batch : [any(batch['doi'][i].endswith(p_doi) for p_doi in pos_doi_set) if batch['doi'][i] is not None else False for i in range(len(batch['doi']))],batched=True,batch_size=1000,num_proc=30)\n",
      "                                                    ^^^^^^^^^^^^^^^^^^^^^^^^^^^^^^^^^^^^^^^^^^^^^^^^^^^^^^^^^^^^^\n",
      "  File \"/home/leandre/Projects/BioMoQA_Playground/.venv/lib/python3.11/site-packages/multiprocess/process.py\", line 314, in _bootstrap\n",
      "    self.run()\n",
      "  File \"/home/leandre/Projects/BioMoQA_Playground/.venv/lib/python3.11/site-packages/datasets/formatting/formatting.py\", line 279, in __getitem__\n",
      "    def __getitem__(self, key):\n",
      "    \n",
      "  File \"/home/leandre/Projects/BioMoQA_Playground/.venv/lib/python3.11/site-packages/datasets/utils/py_utils.py\", line 680, in _write_generator_to_queue\n",
      "    for i, result in enumerate(func(**kwargs)):\n",
      "Traceback (most recent call last):\n",
      "  File \"/tmp/ipykernel_26987/559633212.py\", line 3, in <genexpr>\n",
      "    none_abs_instance=neg_ds.filter(lambda batch : [any(batch['doi'][i].endswith(p_doi) for p_doi in pos_doi_set) if batch['doi'][i] is not None else False for i in range(len(batch['doi']))],batched=True,batch_size=1000,num_proc=30)\n",
      "                                                        ^^^^^^^^^^^^^^^^^^^^^^^^^^^^^^^\n",
      "Traceback (most recent call last):\n",
      "Traceback (most recent call last):\n",
      "Traceback (most recent call last):\n",
      "Traceback (most recent call last):\n",
      "  File \"/tmp/ipykernel_26987/559633212.py\", line 3, in <genexpr>\n",
      "    none_abs_instance=neg_ds.filter(lambda batch : [any(batch['doi'][i].endswith(p_doi) for p_doi in pos_doi_set) if batch['doi'][i] is not None else False for i in range(len(batch['doi']))],batched=True,batch_size=1000,num_proc=30)\n",
      "                                                        ^^^^^^^^^^^^^^^^^^^^^^^^^^^^^^^\n",
      "KeyboardInterrupt\n",
      "Traceback (most recent call last):\n",
      "KeyboardInterrupt\n",
      "Traceback (most recent call last):\n",
      "Traceback (most recent call last):\n",
      "Traceback (most recent call last):\n",
      "  File \"/home/leandre/Projects/BioMoQA_Playground/.venv/lib/python3.11/site-packages/datasets/arrow_dataset.py\", line 3516, in _map_single\n",
      "    for i, batch in iter_outputs(shard_iterable):\n",
      "  File \"/tmp/ipykernel_26987/559633212.py\", line 3, in <listcomp>\n",
      "    none_abs_instance=neg_ds.filter(lambda batch : [any(batch['doi'][i].endswith(p_doi) for p_doi in pos_doi_set) if batch['doi'][i] is not None else False for i in range(len(batch['doi']))],batched=True,batch_size=1000,num_proc=30)\n",
      "                                                    ^^^^^^^^^^^^^^^^^^^^^^^^^^^^^^^^^^^^^^^^^^^^^^^^^^^^^^^^^^^^^\n",
      "Traceback (most recent call last):\n",
      "Traceback (most recent call last):\n",
      "Traceback (most recent call last):\n",
      "Traceback (most recent call last):\n",
      "  File \"/home/leandre/Projects/BioMoQA_Playground/.venv/lib/python3.11/site-packages/multiprocess/process.py\", line 108, in run\n",
      "    self._target(*self._args, **self._kwargs)\n",
      "  File \"/home/leandre/Projects/BioMoQA_Playground/.venv/lib/python3.11/site-packages/multiprocess/process.py\", line 314, in _bootstrap\n",
      "    self.run()\n",
      "  File \"/home/leandre/Projects/BioMoQA_Playground/.venv/lib/python3.11/site-packages/multiprocess/process.py\", line 314, in _bootstrap\n",
      "    self.run()\n",
      "Traceback (most recent call last):\n",
      "Traceback (most recent call last):\n",
      "Traceback (most recent call last):\n",
      "  File \"/home/leandre/Projects/BioMoQA_Playground/.venv/lib/python3.11/site-packages/multiprocess/process.py\", line 314, in _bootstrap\n",
      "    self.run()\n",
      "KeyboardInterrupt\n",
      "  File \"/home/leandre/Projects/BioMoQA_Playground/.venv/lib/python3.11/site-packages/multiprocess/process.py\", line 314, in _bootstrap\n",
      "    self.run()\n",
      "Traceback (most recent call last):\n",
      "  File \"/tmp/ipykernel_26987/559633212.py\", line 3, in <genexpr>\n",
      "    none_abs_instance=neg_ds.filter(lambda batch : [any(batch['doi'][i].endswith(p_doi) for p_doi in pos_doi_set) if batch['doi'][i] is not None else False for i in range(len(batch['doi']))],batched=True,batch_size=1000,num_proc=30)\n",
      "                                                        ~~~~~^^^^^^^\n",
      "  File \"/home/leandre/Projects/BioMoQA_Playground/.venv/lib/python3.11/site-packages/multiprocess/process.py\", line 314, in _bootstrap\n",
      "    self.run()\n",
      "  File \"/home/leandre/Projects/BioMoQA_Playground/.venv/lib/python3.11/site-packages/multiprocess/process.py\", line 314, in _bootstrap\n",
      "    self.run()\n",
      "  File \"/home/leandre/Projects/BioMoQA_Playground/.venv/lib/python3.11/site-packages/datasets/arrow_dataset.py\", line 3466, in iter_outputs\n",
      "    yield i, apply_function(example, i, offset=offset)\n",
      "             ^^^^^^^^^^^^^^^^^^^^^^^^^^^^^^^^^^^^^^^^^\n",
      "  File \"/home/leandre/Projects/BioMoQA_Playground/.venv/lib/python3.11/site-packages/multiprocess/process.py\", line 314, in _bootstrap\n",
      "    self.run()\n",
      "  File \"/home/leandre/Projects/BioMoQA_Playground/.venv/lib/python3.11/site-packages/multiprocess/process.py\", line 314, in _bootstrap\n",
      "    self.run()\n",
      "  File \"/home/leandre/Projects/BioMoQA_Playground/.venv/lib/python3.11/site-packages/multiprocess/process.py\", line 108, in run\n",
      "    self._target(*self._args, **self._kwargs)\n",
      "  File \"/home/leandre/Projects/BioMoQA_Playground/.venv/lib/python3.11/site-packages/multiprocess/process.py\", line 314, in _bootstrap\n",
      "    self.run()\n",
      "  File \"/home/leandre/Projects/BioMoQA_Playground/.venv/lib/python3.11/site-packages/multiprocess/process.py\", line 314, in _bootstrap\n",
      "    self.run()\n",
      "  File \"/home/leandre/Projects/BioMoQA_Playground/.venv/lib/python3.11/site-packages/multiprocess/process.py\", line 314, in _bootstrap\n",
      "    self.run()\n",
      "  File \"/home/leandre/Projects/BioMoQA_Playground/.venv/lib/python3.11/site-packages/multiprocess/pool.py\", line 125, in worker\n",
      "    result = (True, func(*args, **kwds))\n",
      "                    ^^^^^^^^^^^^^^^^^^^\n",
      "  File \"/home/leandre/Projects/BioMoQA_Playground/.venv/lib/python3.11/site-packages/multiprocess/process.py\", line 314, in _bootstrap\n",
      "    self.run()\n",
      "  File \"/home/leandre/Projects/BioMoQA_Playground/.venv/lib/python3.11/site-packages/multiprocess/process.py\", line 108, in run\n",
      "    self._target(*self._args, **self._kwargs)\n",
      "  File \"/home/leandre/Projects/BioMoQA_Playground/.venv/lib/python3.11/site-packages/datasets/formatting/formatting.py\", line 279, in __getitem__\n",
      "    def __getitem__(self, key):\n",
      "    \n",
      "  File \"/home/leandre/Projects/BioMoQA_Playground/.venv/lib/python3.11/site-packages/multiprocess/process.py\", line 314, in _bootstrap\n",
      "    self.run()\n",
      "  File \"/home/leandre/Projects/BioMoQA_Playground/.venv/lib/python3.11/site-packages/multiprocess/process.py\", line 314, in _bootstrap\n",
      "    self.run()\n",
      "  File \"/home/leandre/Projects/BioMoQA_Playground/.venv/lib/python3.11/site-packages/multiprocess/process.py\", line 314, in _bootstrap\n",
      "    self.run()\n",
      "  File \"/home/leandre/Projects/BioMoQA_Playground/.venv/lib/python3.11/site-packages/multiprocess/process.py\", line 108, in run\n",
      "    self._target(*self._args, **self._kwargs)\n",
      "  File \"/home/leandre/Projects/BioMoQA_Playground/.venv/lib/python3.11/site-packages/multiprocess/process.py\", line 314, in _bootstrap\n",
      "    self.run()\n",
      "  File \"/home/leandre/Projects/BioMoQA_Playground/.venv/lib/python3.11/site-packages/multiprocess/process.py\", line 108, in run\n",
      "    self._target(*self._args, **self._kwargs)\n",
      "  File \"/home/leandre/Projects/BioMoQA_Playground/.venv/lib/python3.11/site-packages/datasets/arrow_dataset.py\", line 3389, in apply_function\n",
      "    processed_inputs = function(*fn_args, *additional_args, **fn_kwargs)\n",
      "                       ^^^^^^^^^^^^^^^^^^^^^^^^^^^^^^^^^^^^^^^^^^^^^^^^^\n",
      "  File \"/home/leandre/Projects/BioMoQA_Playground/.venv/lib/python3.11/site-packages/multiprocess/process.py\", line 108, in run\n",
      "    self._target(*self._args, **self._kwargs)\n",
      "  File \"/home/leandre/Projects/BioMoQA_Playground/.venv/lib/python3.11/site-packages/multiprocess/process.py\", line 108, in run\n",
      "    self._target(*self._args, **self._kwargs)\n",
      "  File \"/home/leandre/Projects/BioMoQA_Playground/.venv/lib/python3.11/site-packages/multiprocess/process.py\", line 314, in _bootstrap\n",
      "    self.run()\n",
      "  File \"/home/leandre/Projects/BioMoQA_Playground/.venv/lib/python3.11/site-packages/multiprocess/process.py\", line 108, in run\n",
      "    self._target(*self._args, **self._kwargs)\n",
      "  File \"/home/leandre/Projects/BioMoQA_Playground/.venv/lib/python3.11/site-packages/multiprocess/process.py\", line 108, in run\n",
      "    self._target(*self._args, **self._kwargs)\n",
      "  File \"/home/leandre/Projects/BioMoQA_Playground/.venv/lib/python3.11/site-packages/multiprocess/pool.py\", line 114, in worker\n",
      "    task = get()\n",
      "           ^^^^^\n",
      "  File \"/home/leandre/Projects/BioMoQA_Playground/.venv/lib/python3.11/site-packages/multiprocess/process.py\", line 108, in run\n",
      "    self._target(*self._args, **self._kwargs)\n",
      "  File \"/home/leandre/Projects/BioMoQA_Playground/.venv/lib/python3.11/site-packages/datasets/utils/py_utils.py\", line 680, in _write_generator_to_queue\n",
      "    for i, result in enumerate(func(**kwargs)):\n",
      "  File \"/home/leandre/Projects/BioMoQA_Playground/.venv/lib/python3.11/site-packages/multiprocess/process.py\", line 108, in run\n",
      "    self._target(*self._args, **self._kwargs)\n",
      "  File \"/home/leandre/Projects/BioMoQA_Playground/.venv/lib/python3.11/site-packages/multiprocess/process.py\", line 108, in run\n",
      "    self._target(*self._args, **self._kwargs)\n",
      "  File \"/home/leandre/Projects/BioMoQA_Playground/.venv/lib/python3.11/site-packages/multiprocess/process.py\", line 108, in run\n",
      "    self._target(*self._args, **self._kwargs)\n",
      "  File \"/home/leandre/Projects/BioMoQA_Playground/.venv/lib/python3.11/site-packages/multiprocess/process.py\", line 108, in run\n",
      "    self._target(*self._args, **self._kwargs)\n",
      "  File \"/home/leandre/Projects/BioMoQA_Playground/.venv/lib/python3.11/site-packages/multiprocess/pool.py\", line 114, in worker\n",
      "    task = get()\n",
      "           ^^^^^\n",
      "KeyboardInterrupt\n",
      "  File \"/home/leandre/Projects/BioMoQA_Playground/.venv/lib/python3.11/site-packages/datasets/arrow_dataset.py\", line 6400, in get_indices_from_mask_function\n",
      "    mask = function(*inputs, *additional_args, **fn_kwargs)\n",
      "           ^^^^^^^^^^^^^^^^^^^^^^^^^^^^^^^^^^^^^^^^^^^^^^^^\n",
      "  File \"/home/leandre/Projects/BioMoQA_Playground/.venv/lib/python3.11/site-packages/multiprocess/pool.py\", line 114, in worker\n",
      "    task = get()\n",
      "           ^^^^^\n",
      "  File \"/home/leandre/Projects/BioMoQA_Playground/.venv/lib/python3.11/site-packages/multiprocess/process.py\", line 108, in run\n",
      "    self._target(*self._args, **self._kwargs)\n",
      "  File \"/home/leandre/Projects/BioMoQA_Playground/.venv/lib/python3.11/site-packages/multiprocess/process.py\", line 108, in run\n",
      "    self._target(*self._args, **self._kwargs)\n",
      "  File \"/home/leandre/Projects/BioMoQA_Playground/.venv/lib/python3.11/site-packages/multiprocess/pool.py\", line 114, in worker\n",
      "    task = get()\n",
      "           ^^^^^\n",
      "  File \"/home/leandre/Projects/BioMoQA_Playground/.venv/lib/python3.11/site-packages/multiprocess/pool.py\", line 114, in worker\n",
      "    task = get()\n",
      "           ^^^^^\n",
      "  File \"/home/leandre/Projects/BioMoQA_Playground/.venv/lib/python3.11/site-packages/multiprocess/pool.py\", line 114, in worker\n",
      "    task = get()\n",
      "           ^^^^^\n",
      "  File \"/home/leandre/Projects/BioMoQA_Playground/.venv/lib/python3.11/site-packages/multiprocess/queues.py\", line 367, in get\n",
      "    with self._rlock:\n",
      "  File \"/home/leandre/Projects/BioMoQA_Playground/.venv/lib/python3.11/site-packages/multiprocess/pool.py\", line 114, in worker\n",
      "    task = get()\n",
      "           ^^^^^\n",
      "  File \"/home/leandre/Projects/BioMoQA_Playground/.venv/lib/python3.11/site-packages/multiprocess/process.py\", line 108, in run\n",
      "    self._target(*self._args, **self._kwargs)\n",
      "  File \"/home/leandre/Projects/BioMoQA_Playground/.venv/lib/python3.11/site-packages/multiprocess/pool.py\", line 114, in worker\n",
      "    task = get()\n",
      "           ^^^^^\n",
      "  File \"/home/leandre/Projects/BioMoQA_Playground/.venv/lib/python3.11/site-packages/datasets/arrow_dataset.py\", line 3516, in _map_single\n",
      "    for i, batch in iter_outputs(shard_iterable):\n",
      "  File \"/home/leandre/Projects/BioMoQA_Playground/.venv/lib/python3.11/site-packages/multiprocess/pool.py\", line 114, in worker\n",
      "    task = get()\n",
      "           ^^^^^\n",
      "  File \"/home/leandre/Projects/BioMoQA_Playground/.venv/lib/python3.11/site-packages/multiprocess/process.py\", line 108, in run\n",
      "    self._target(*self._args, **self._kwargs)\n",
      "  File \"/home/leandre/Projects/BioMoQA_Playground/.venv/lib/python3.11/site-packages/multiprocess/pool.py\", line 114, in worker\n",
      "    task = get()\n",
      "           ^^^^^\n",
      "  File \"/home/leandre/Projects/BioMoQA_Playground/.venv/lib/python3.11/site-packages/multiprocess/pool.py\", line 114, in worker\n",
      "    task = get()\n",
      "           ^^^^^\n",
      "  File \"/home/leandre/Projects/BioMoQA_Playground/.venv/lib/python3.11/site-packages/multiprocess/pool.py\", line 114, in worker\n",
      "    task = get()\n",
      "           ^^^^^\n",
      "  File \"/home/leandre/Projects/BioMoQA_Playground/.venv/lib/python3.11/site-packages/multiprocess/pool.py\", line 114, in worker\n",
      "    task = get()\n",
      "           ^^^^^\n",
      "  File \"/tmp/ipykernel_26987/559633212.py\", line 3, in <lambda>\n",
      "    none_abs_instance=neg_ds.filter(lambda batch : [any(batch['doi'][i].endswith(p_doi) for p_doi in pos_doi_set) if batch['doi'][i] is not None else False for i in range(len(batch['doi']))],batched=True,batch_size=1000,num_proc=30)\n",
      "                                                   ^^^^^^^^^^^^^^^^^^^^^^^^^^^^^^^^^^^^^^^^^^^^^^^^^^^^^^^^^^^^^^^^^^^^^^^^^^^^^^^^^^^^^^^^^^^^^^^^^^^^^^^^^^^^^^^^^^^^^^^^^^^^^^^^^^^^^^^^^^^\n",
      "  File \"/home/leandre/Projects/BioMoQA_Playground/.venv/lib/python3.11/site-packages/multiprocess/queues.py\", line 367, in get\n",
      "    with self._rlock:\n",
      "  File \"/home/leandre/Projects/BioMoQA_Playground/.venv/lib/python3.11/site-packages/multiprocess/pool.py\", line 114, in worker\n",
      "    task = get()\n",
      "           ^^^^^\n",
      "  File \"/home/leandre/Projects/BioMoQA_Playground/.venv/lib/python3.11/site-packages/multiprocess/queues.py\", line 367, in get\n",
      "    with self._rlock:\n",
      "  File \"/home/leandre/Projects/BioMoQA_Playground/.venv/lib/python3.11/site-packages/multiprocess/queues.py\", line 367, in get\n",
      "    with self._rlock:\n",
      "  File \"/home/leandre/Projects/BioMoQA_Playground/.venv/lib/python3.11/site-packages/multiprocess/queues.py\", line 367, in get\n",
      "    with self._rlock:\n",
      "  File \"/home/leandre/Projects/BioMoQA_Playground/.venv/lib/python3.11/site-packages/multiprocess/queues.py\", line 367, in get\n",
      "    with self._rlock:\n",
      "  File \"/home/leandre/Projects/BioMoQA_Playground/.venv/lib/python3.11/site-packages/multiprocess/pool.py\", line 114, in worker\n",
      "    task = get()\n",
      "           ^^^^^\n",
      "  File \"/home/leandre/Projects/BioMoQA_Playground/.venv/lib/python3.11/site-packages/multiprocess/pool.py\", line 114, in worker\n",
      "    task = get()\n",
      "           ^^^^^\n",
      "  File \"/home/leandre/Projects/BioMoQA_Playground/.venv/lib/python3.11/site-packages/multiprocess/synchronize.py\", line 101, in __enter__\n",
      "    return self._semlock.__enter__()\n",
      "           ^^^^^^^^^^^^^^^^^^^^^^^^^\n",
      "  File \"/home/leandre/Projects/BioMoQA_Playground/.venv/lib/python3.11/site-packages/multiprocess/queues.py\", line 367, in get\n",
      "    with self._rlock:\n",
      "  File \"/home/leandre/Projects/BioMoQA_Playground/.venv/lib/python3.11/site-packages/multiprocess/queues.py\", line 367, in get\n",
      "    with self._rlock:\n",
      "  File \"/home/leandre/Projects/BioMoQA_Playground/.venv/lib/python3.11/site-packages/multiprocess/queues.py\", line 367, in get\n",
      "    with self._rlock:\n",
      "  File \"/home/leandre/Projects/BioMoQA_Playground/.venv/lib/python3.11/site-packages/datasets/arrow_dataset.py\", line 3466, in iter_outputs\n",
      "    yield i, apply_function(example, i, offset=offset)\n",
      "             ^^^^^^^^^^^^^^^^^^^^^^^^^^^^^^^^^^^^^^^^^\n",
      "  File \"/home/leandre/Projects/BioMoQA_Playground/.venv/lib/python3.11/site-packages/multiprocess/queues.py\", line 367, in get\n",
      "    with self._rlock:\n",
      "  File \"/tmp/ipykernel_26987/559633212.py\", line 3, in <listcomp>\n",
      "    none_abs_instance=neg_ds.filter(lambda batch : [any(batch['doi'][i].endswith(p_doi) for p_doi in pos_doi_set) if batch['doi'][i] is not None else False for i in range(len(batch['doi']))],batched=True,batch_size=1000,num_proc=30)\n",
      "                                                    ^^^^^^^^^^^^^^^^^^^^^^^^^^^^^^^^^^^^^^^^^^^^^^^^^^^^^^^^^^^^^\n",
      "  File \"/home/leandre/Projects/BioMoQA_Playground/.venv/lib/python3.11/site-packages/multiprocess/pool.py\", line 114, in worker\n",
      "    task = get()\n",
      "           ^^^^^\n",
      "  File \"/home/leandre/Projects/BioMoQA_Playground/.venv/lib/python3.11/site-packages/multiprocess/queues.py\", line 367, in get\n",
      "    with self._rlock:\n",
      "  File \"/home/leandre/Projects/BioMoQA_Playground/.venv/lib/python3.11/site-packages/multiprocess/synchronize.py\", line 101, in __enter__\n",
      "    return self._semlock.__enter__()\n",
      "           ^^^^^^^^^^^^^^^^^^^^^^^^^\n",
      "  File \"/home/leandre/Projects/BioMoQA_Playground/.venv/lib/python3.11/site-packages/multiprocess/synchronize.py\", line 101, in __enter__\n",
      "    return self._semlock.__enter__()\n",
      "           ^^^^^^^^^^^^^^^^^^^^^^^^^\n",
      "  File \"/home/leandre/Projects/BioMoQA_Playground/.venv/lib/python3.11/site-packages/multiprocess/synchronize.py\", line 101, in __enter__\n",
      "    return self._semlock.__enter__()\n",
      "           ^^^^^^^^^^^^^^^^^^^^^^^^^\n",
      "  File \"/home/leandre/Projects/BioMoQA_Playground/.venv/lib/python3.11/site-packages/multiprocess/queues.py\", line 367, in get\n",
      "    with self._rlock:\n",
      "KeyboardInterrupt\n",
      "  File \"/home/leandre/Projects/BioMoQA_Playground/.venv/lib/python3.11/site-packages/multiprocess/queues.py\", line 367, in get\n",
      "    with self._rlock:\n",
      "  File \"/home/leandre/Projects/BioMoQA_Playground/.venv/lib/python3.11/site-packages/multiprocess/synchronize.py\", line 101, in __enter__\n",
      "    return self._semlock.__enter__()\n",
      "           ^^^^^^^^^^^^^^^^^^^^^^^^^\n",
      "  File \"/home/leandre/Projects/BioMoQA_Playground/.venv/lib/python3.11/site-packages/multiprocess/queues.py\", line 367, in get\n",
      "    with self._rlock:\n",
      "  File \"/home/leandre/Projects/BioMoQA_Playground/.venv/lib/python3.11/site-packages/multiprocess/queues.py\", line 367, in get\n",
      "    with self._rlock:\n",
      "  File \"/home/leandre/Projects/BioMoQA_Playground/.venv/lib/python3.11/site-packages/multiprocess/synchronize.py\", line 101, in __enter__\n",
      "    return self._semlock.__enter__()\n",
      "           ^^^^^^^^^^^^^^^^^^^^^^^^^\n",
      "  File \"/home/leandre/Projects/BioMoQA_Playground/.venv/lib/python3.11/site-packages/multiprocess/synchronize.py\", line 101, in __enter__\n",
      "    return self._semlock.__enter__()\n",
      "           ^^^^^^^^^^^^^^^^^^^^^^^^^\n",
      "  File \"/home/leandre/Projects/BioMoQA_Playground/.venv/lib/python3.11/site-packages/multiprocess/synchronize.py\", line 101, in __enter__\n",
      "    return self._semlock.__enter__()\n",
      "           ^^^^^^^^^^^^^^^^^^^^^^^^^\n",
      "  File \"/tmp/ipykernel_26987/559633212.py\", line 3, in <genexpr>\n",
      "    none_abs_instance=neg_ds.filter(lambda batch : [any(batch['doi'][i].endswith(p_doi) for p_doi in pos_doi_set) if batch['doi'][i] is not None else False for i in range(len(batch['doi']))],batched=True,batch_size=1000,num_proc=30)\n",
      "                                                        ~~~~~^^^^^^^\n",
      "  File \"/home/leandre/Projects/BioMoQA_Playground/.venv/lib/python3.11/site-packages/multiprocess/synchronize.py\", line 101, in __enter__\n",
      "    return self._semlock.__enter__()\n",
      "           ^^^^^^^^^^^^^^^^^^^^^^^^^\n",
      "KeyboardInterrupt\n",
      "KeyboardInterrupt\n",
      "KeyboardInterrupt\n",
      "  File \"/home/leandre/Projects/BioMoQA_Playground/.venv/lib/python3.11/site-packages/datasets/arrow_dataset.py\", line 3389, in apply_function\n",
      "    processed_inputs = function(*fn_args, *additional_args, **fn_kwargs)\n",
      "                       ^^^^^^^^^^^^^^^^^^^^^^^^^^^^^^^^^^^^^^^^^^^^^^^^^\n",
      "  File \"/home/leandre/Projects/BioMoQA_Playground/.venv/lib/python3.11/site-packages/multiprocess/synchronize.py\", line 101, in __enter__\n",
      "    return self._semlock.__enter__()\n",
      "           ^^^^^^^^^^^^^^^^^^^^^^^^^\n",
      "  File \"/home/leandre/Projects/BioMoQA_Playground/.venv/lib/python3.11/site-packages/multiprocess/synchronize.py\", line 101, in __enter__\n",
      "    return self._semlock.__enter__()\n",
      "           ^^^^^^^^^^^^^^^^^^^^^^^^^\n",
      "  File \"/home/leandre/Projects/BioMoQA_Playground/.venv/lib/python3.11/site-packages/datasets/arrow_dataset.py\", line 6400, in get_indices_from_mask_function\n",
      "    mask = function(*inputs, *additional_args, **fn_kwargs)\n",
      "           ^^^^^^^^^^^^^^^^^^^^^^^^^^^^^^^^^^^^^^^^^^^^^^^^\n",
      "  File \"/home/leandre/Projects/BioMoQA_Playground/.venv/lib/python3.11/site-packages/multiprocess/queues.py\", line 367, in get\n",
      "    with self._rlock:\n",
      "  File \"/home/leandre/Projects/BioMoQA_Playground/.venv/lib/python3.11/site-packages/multiprocess/synchronize.py\", line 101, in __enter__\n",
      "    return self._semlock.__enter__()\n",
      "           ^^^^^^^^^^^^^^^^^^^^^^^^^\n",
      "  File \"/home/leandre/Projects/BioMoQA_Playground/.venv/lib/python3.11/site-packages/multiprocess/queues.py\", line 367, in get\n",
      "    with self._rlock:\n",
      "  File \"/home/leandre/Projects/BioMoQA_Playground/.venv/lib/python3.11/site-packages/multiprocess/synchronize.py\", line 101, in __enter__\n",
      "    return self._semlock.__enter__()\n",
      "           ^^^^^^^^^^^^^^^^^^^^^^^^^\n",
      "KeyboardInterrupt\n",
      "  File \"/home/leandre/Projects/BioMoQA_Playground/.venv/lib/python3.11/site-packages/multiprocess/synchronize.py\", line 101, in __enter__\n",
      "    return self._semlock.__enter__()\n",
      "           ^^^^^^^^^^^^^^^^^^^^^^^^^\n",
      "KeyboardInterrupt\n",
      "KeyboardInterrupt\n",
      "KeyboardInterrupt\n",
      "  File \"/home/leandre/Projects/BioMoQA_Playground/.venv/lib/python3.11/site-packages/multiprocess/synchronize.py\", line 101, in __enter__\n",
      "    return self._semlock.__enter__()\n",
      "           ^^^^^^^^^^^^^^^^^^^^^^^^^\n",
      "KeyboardInterrupt\n",
      "KeyboardInterrupt\n",
      "KeyboardInterrupt\n",
      "KeyboardInterrupt\n",
      "  File \"/home/leandre/Projects/BioMoQA_Playground/.venv/lib/python3.11/site-packages/multiprocess/synchronize.py\", line 101, in __enter__\n",
      "    return self._semlock.__enter__()\n",
      "           ^^^^^^^^^^^^^^^^^^^^^^^^^\n",
      "KeyboardInterrupt\n",
      "KeyboardInterrupt\n",
      "  File \"/home/leandre/Projects/BioMoQA_Playground/.venv/lib/python3.11/site-packages/datasets/formatting/formatting.py\", line 279, in __getitem__\n",
      "    def __getitem__(self, key):\n",
      "    \n",
      "KeyboardInterrupt\n",
      "KeyboardInterrupt\n",
      "KeyboardInterrupt\n",
      "  File \"/home/leandre/Projects/BioMoQA_Playground/.venv/lib/python3.11/site-packages/multiprocess/synchronize.py\", line 101, in __enter__\n",
      "    return self._semlock.__enter__()\n",
      "           ^^^^^^^^^^^^^^^^^^^^^^^^^\n",
      "  File \"/tmp/ipykernel_26987/559633212.py\", line 3, in <lambda>\n",
      "    none_abs_instance=neg_ds.filter(lambda batch : [any(batch['doi'][i].endswith(p_doi) for p_doi in pos_doi_set) if batch['doi'][i] is not None else False for i in range(len(batch['doi']))],batched=True,batch_size=1000,num_proc=30)\n",
      "                                                   ^^^^^^^^^^^^^^^^^^^^^^^^^^^^^^^^^^^^^^^^^^^^^^^^^^^^^^^^^^^^^^^^^^^^^^^^^^^^^^^^^^^^^^^^^^^^^^^^^^^^^^^^^^^^^^^^^^^^^^^^^^^^^^^^^^^^^^^^^^^\n",
      "KeyboardInterrupt\n",
      "  File \"/tmp/ipykernel_26987/559633212.py\", line 3, in <listcomp>\n",
      "    none_abs_instance=neg_ds.filter(lambda batch : [any(batch['doi'][i].endswith(p_doi) for p_doi in pos_doi_set) if batch['doi'][i] is not None else False for i in range(len(batch['doi']))],batched=True,batch_size=1000,num_proc=30)\n",
      "                                                    ^^^^^^^^^^^^^^^^^^^^^^^^^^^^^^^^^^^^^^^^^^^^^^^^^^^^^^^^^^^^^\n",
      "  File \"/tmp/ipykernel_26987/559633212.py\", line 3, in <genexpr>\n",
      "    none_abs_instance=neg_ds.filter(lambda batch : [any(batch['doi'][i].endswith(p_doi) for p_doi in pos_doi_set) if batch['doi'][i] is not None else False for i in range(len(batch['doi']))],batched=True,batch_size=1000,num_proc=30)\n",
      "                                                        ^^^^^^^^^^^^^^^^^^^^^^^^^^^^^^^\n",
      "KeyboardInterrupt\n"
     ]
    }
   ],
   "source": [
    "pos_doi_set=set(pos_ds_list[0]['doi'])\n",
    "pos_doi_set.remove(None)\n",
    "none_abs_instance=neg_ds.filter(lambda batch : [any(batch['doi'][i].endswith(p_doi) for p_doi in pos_doi_set) if batch['doi'][i] is not None else False for i in range(len(batch['doi']))],batched=True,batch_size=1000,num_proc=30)"
   ]
  },
  {
   "cell_type": "code",
   "execution_count": null,
   "id": "cfbdd05d",
   "metadata": {},
   "outputs": [
    {
     "name": "stdout",
     "output_type": "stream",
     "text": [
      "3861\n"
     ]
    }
   ],
   "source": [
    "print(len(pos_doi_set))"
   ]
  },
  {
   "cell_type": "code",
   "execution_count": null,
   "id": "552ba0cd",
   "metadata": {},
   "outputs": [
    {
     "name": "stdout",
     "output_type": "stream",
     "text": [
      "Dataset({\n",
      "    features: ['id', 'display_name', 'author', 'ab', 'doi', 'topics', 'author_abbr'],\n",
      "    num_rows: 941\n",
      "})\n"
     ]
    }
   ],
   "source": [
    "print(none_abs_instance)"
   ]
  },
  {
   "cell_type": "code",
   "execution_count": null,
   "id": "c94b82aa",
   "metadata": {},
   "outputs": [
    {
     "name": "stdout",
     "output_type": "stream",
     "text": [
      "['https://doi.org/10.1016/s0016-0032(29)90208-8', 'https://doi.org/10.1016/s0016-0032(29)90638-4', 'https://doi.org/10.1098/rstl.1829.0026', 'https://doi.org/10.1016/s0016-0032(29)90698-0', 'https://doi.org/10.1080/14786442908675166', 'https://doi.org/10.5962/bhl.title.109375', 'https://doi.org/10.1016/s0016-0032(29)90539-1', 'https://doi.org/10.1016/s0016-0032(29)90045-4', 'https://doi.org/10.1016/s0016-0032(29)90465-8', 'https://doi.org/10.1098/rstl.1816.0012']\n"
     ]
    }
   ],
   "source": [
    "print(neg_ds['doi'][0:10])"
   ]
  },
  {
   "cell_type": "code",
   "execution_count": null,
   "id": "98b81a2d",
   "metadata": {},
   "outputs": [
    {
     "name": "stdout",
     "output_type": "stream",
     "text": [
      "Dataset({\n",
      "    features: ['id', 'display_name', 'author', 'ab', 'doi', 'topics', 'author_abbr'],\n",
      "    num_rows: 0\n",
      "})\n"
     ]
    }
   ],
   "source": [
    "print(neg_ds.filter(lambda batch : [batch['id'][i].endswith('W2142524821') if batch['doi'][i] is not None else False for i in range(len(batch['doi']))],batched=True,batch_size=1000,num_proc=20))"
   ]
  },
  {
   "cell_type": "code",
   "execution_count": null,
   "id": "3784cafc",
   "metadata": {},
   "outputs": [
    {
     "name": "stdout",
     "output_type": "stream",
     "text": [
      "https://openalex.org/W1979751022\n"
     ]
    }
   ],
   "source": [
    "print(neg_ds['id'][0])"
   ]
  },
  {
   "cell_type": "code",
   "execution_count": null,
   "id": "99f22a54",
   "metadata": {},
   "outputs": [
    {
     "name": "stdout",
     "output_type": "stream",
     "text": [
      "Dataset({\n",
      "    features: ['doi', 'title', 'abstract', 'Item Type', 'Publication Year'],\n",
      "    num_rows: 158\n",
      "})\n"
     ]
    }
   ],
   "source": [
    "recent_pos=clean_pos_b.filter(lambda batch : [batch[\"Publication Year\"][i]>=2021 if batch[\"Publication Year\"][i] is not None else False for i in range(len(batch['doi']))],batched=True,batch_size=1000,num_proc=20)\n",
    "print(recent_pos)"
   ]
  },
  {
   "cell_type": "code",
   "execution_count": null,
   "id": "a015ec53",
   "metadata": {},
   "outputs": [
    {
     "name": "stdout",
     "output_type": "stream",
     "text": [
      "Record fetched successfully:\n",
      "Abstract: Patterns of native and alien plant diversity in response to disturbance were examined along an elevational gradient in blue oak savanna, chaparral, and coniferous forests. Total species richness, alien species richness, and alien cover declined with elevation, at scales from 1 to 1000 m<jats:sup>2</jats:sup>. We found no support for the hypothesis that community diversity inhibits alien invasion. At the 1‐m<jats:sup>2</jats:sup> point scale, where we would expect competitive interactions between the largely herbaceous flora to be most intense, alien species richness as well as alien cover increased with increasing native species richness in all communities. This suggests that aliens are limited not by the number of native competitors, but by resources that affect establishment of both natives and aliens.</jats:p><jats:p>Blue oak savannas were heavily dominated by alien species and consistently had more alien than native species at the 1‐m<jats:sup>2</jats:sup> scale. All of these aliens are annuals, and it is widely thought that they have displaced native bunchgrasses. If true, this means that aliens have greatly increased species richness. Alternatively, there is a rich regional flora of native annual forbs that could have dominated these grasslands prior to displacement by alien grasses. On our sites, livestock grazing increased the number of alien species and alien cover only slightly over that of sites free of livestock grazing for more than a century, indicating some level of permanency to this invasion.</jats:p><jats:p>In chaparral, both diversity and aliens increased markedly several years after fire. Invasive species are rare in undisturbed shrublands, and alien propagules fail to survive the natural crown fires in these ecosystems. Thus, aliens necessarily must colonize after fire and, as a consequence, time since fire is an important determinant of invasive presence. Blue oak savannas are an important propagule source for alien species because they maintain permanent populations of all alien species encountered in postfire chaparral, and because the vegetation mosaic in this region places them in proximity to chaparral. The speed at which alien propagules reach a burned site and the speed at which the shrublands return to their former closed‐canopy condition determine alien invasion. Frequent burning of this vegetation alters the balance in favor of alien invasion.</jats:p><jats:p>In the higher‐elevation coniferous forests, species diversity was a function of fire severity and time since fire. High‐intensity fires create gaps that decrease canopy coverage and increase light levels and nutrients for an ephemeral successional flora. Few species have persistent seed banks, so the time since fire is an important determinant of colonization success. There was a highly significant interaction between fire severity and time since fire for understory cover, species richness, and alien richness and cover. Understory was sparse in the first year after fire, particularly in low‐severity burns, and increased substantially several years after fire, particularly on high‐severity burns. Both fire severity and time since fire affected alien species richness and dominance. Coniferous forests had about one‐third as many alien species as the foothill oak savannas, and fewer than half of the species were shared between these communities. Unburned coniferous forests were largely free of alien species, whereas some burned sites had a significant alien presence, which presents a challenge for fire restoration of these forests.\n",
      "Journal title: Ecological Applications\n",
      "Language: en\n",
      "Article title: FIRE AND GRAZING IMPACTS ON PLANT DIVERSITY AND ALIEN PLANT INVASIONS IN THE SOUTHERN SIERRA NEVADA\n",
      "Authors: Jon E. Keeley, Daniel Lubin, C. J. Fotheringham\n"
     ]
    },
    {
     "data": {
      "text/plain": [
       "('Patterns of native and alien plant diversity in response to disturbance were examined along an elevational gradient in blue oak savanna, chaparral, and coniferous forests. Total species richness, alien species richness, and alien cover declined with elevation, at scales from 1 to 1000 m<jats:sup>2</jats:sup>. We found no support for the hypothesis that community diversity inhibits alien invasion. At the 1‐m<jats:sup>2</jats:sup> point scale, where we would expect competitive interactions between the largely herbaceous flora to be most intense, alien species richness as well as alien cover increased with increasing native species richness in all communities. This suggests that aliens are limited not by the number of native competitors, but by resources that affect establishment of both natives and aliens.</jats:p><jats:p>Blue oak savannas were heavily dominated by alien species and consistently had more alien than native species at the 1‐m<jats:sup>2</jats:sup> scale. All of these aliens are annuals, and it is widely thought that they have displaced native bunchgrasses. If true, this means that aliens have greatly increased species richness. Alternatively, there is a rich regional flora of native annual forbs that could have dominated these grasslands prior to displacement by alien grasses. On our sites, livestock grazing increased the number of alien species and alien cover only slightly over that of sites free of livestock grazing for more than a century, indicating some level of permanency to this invasion.</jats:p><jats:p>In chaparral, both diversity and aliens increased markedly several years after fire. Invasive species are rare in undisturbed shrublands, and alien propagules fail to survive the natural crown fires in these ecosystems. Thus, aliens necessarily must colonize after fire and, as a consequence, time since fire is an important determinant of invasive presence. Blue oak savannas are an important propagule source for alien species because they maintain permanent populations of all alien species encountered in postfire chaparral, and because the vegetation mosaic in this region places them in proximity to chaparral. The speed at which alien propagules reach a burned site and the speed at which the shrublands return to their former closed‐canopy condition determine alien invasion. Frequent burning of this vegetation alters the balance in favor of alien invasion.</jats:p><jats:p>In the higher‐elevation coniferous forests, species diversity was a function of fire severity and time since fire. High‐intensity fires create gaps that decrease canopy coverage and increase light levels and nutrients for an ephemeral successional flora. Few species have persistent seed banks, so the time since fire is an important determinant of colonization success. There was a highly significant interaction between fire severity and time since fire for understory cover, species richness, and alien richness and cover. Understory was sparse in the first year after fire, particularly in low‐severity burns, and increased substantially several years after fire, particularly on high‐severity burns. Both fire severity and time since fire affected alien species richness and dominance. Coniferous forests had about one‐third as many alien species as the foothill oak savannas, and fewer than half of the species were shared between these communities. Unburned coniferous forests were largely free of alien species, whereas some burned sites had a significant alien presence, which presents a challenge for fire restoration of these forests.',\n",
       " 'Ecological Applications',\n",
       " 'en',\n",
       " 'FIRE AND GRAZING IMPACTS ON PLANT DIVERSITY AND ALIEN PLANT INVASIONS IN THE SOUTHERN SIERRA NEVADA')"
      ]
     },
     "execution_count": 26,
     "metadata": {},
     "output_type": "execute_result"
    }
   ],
   "source": [
    "from src.data_pipeline.ipbes.fetch import fetch_crossref_metadata, get_metadata\n",
    "\n",
    "params = {\n",
    "    'mailto': 'leandre.catogni@hesge.ch'\n",
    "}\n",
    "filters = {\n",
    "}\n",
    "get_metadata(fetch_crossref_metadata('https://doi.org/10.1890/02-5002',params=params,filters=filters))\n",
    "\n"
   ]
  },
  {
   "cell_type": "code",
   "execution_count": null,
   "id": "5f3c4153",
   "metadata": {},
   "outputs": [
    {
     "name": "stdout",
     "output_type": "stream",
     "text": [
      "Record fetched successfully:\n",
      "Abstract: Patterns of native and alien plant diversity in response to disturbance were examined along an elevational gradient in blue oak savanna, chaparral, and coniferous forests. Total species richness, alien species richness, and alien cover declined with elevation, at scales from 1 to 1000 m<jats:sup>2</jats:sup>. We found no support for the hypothesis that community diversity inhibits alien invasion. At the 1‐m<jats:sup>2</jats:sup> point scale, where we would expect competitive interactions between the largely herbaceous flora to be most intense, alien species richness as well as alien cover increased with increasing native species richness in all communities. This suggests that aliens are limited not by the number of native competitors, but by resources that affect establishment of both natives and aliens.</jats:p><jats:p>Blue oak savannas were heavily dominated by alien species and consistently had more alien than native species at the 1‐m<jats:sup>2</jats:sup> scale. All of these aliens are annuals, and it is widely thought that they have displaced native bunchgrasses. If true, this means that aliens have greatly increased species richness. Alternatively, there is a rich regional flora of native annual forbs that could have dominated these grasslands prior to displacement by alien grasses. On our sites, livestock grazing increased the number of alien species and alien cover only slightly over that of sites free of livestock grazing for more than a century, indicating some level of permanency to this invasion.</jats:p><jats:p>In chaparral, both diversity and aliens increased markedly several years after fire. Invasive species are rare in undisturbed shrublands, and alien propagules fail to survive the natural crown fires in these ecosystems. Thus, aliens necessarily must colonize after fire and, as a consequence, time since fire is an important determinant of invasive presence. Blue oak savannas are an important propagule source for alien species because they maintain permanent populations of all alien species encountered in postfire chaparral, and because the vegetation mosaic in this region places them in proximity to chaparral. The speed at which alien propagules reach a burned site and the speed at which the shrublands return to their former closed‐canopy condition determine alien invasion. Frequent burning of this vegetation alters the balance in favor of alien invasion.</jats:p><jats:p>In the higher‐elevation coniferous forests, species diversity was a function of fire severity and time since fire. High‐intensity fires create gaps that decrease canopy coverage and increase light levels and nutrients for an ephemeral successional flora. Few species have persistent seed banks, so the time since fire is an important determinant of colonization success. There was a highly significant interaction between fire severity and time since fire for understory cover, species richness, and alien richness and cover. Understory was sparse in the first year after fire, particularly in low‐severity burns, and increased substantially several years after fire, particularly on high‐severity burns. Both fire severity and time since fire affected alien species richness and dominance. Coniferous forests had about one‐third as many alien species as the foothill oak savannas, and fewer than half of the species were shared between these communities. Unburned coniferous forests were largely free of alien species, whereas some burned sites had a significant alien presence, which presents a challenge for fire restoration of these forests.\n",
      "Journal title: Ecological Applications\n",
      "Language: en\n",
      "Article title: FIRE AND GRAZING IMPACTS ON PLANT DIVERSITY AND ALIEN PLANT INVASIONS IN THE SOUTHERN SIERRA NEVADA\n",
      "Authors: Jon E. Keeley, Daniel Lubin, C. J. Fotheringham\n"
     ]
    },
    {
     "data": {
      "text/plain": [
       "('Patterns of native and alien plant diversity in response to disturbance were examined along an elevational gradient in blue oak savanna, chaparral, and coniferous forests. Total species richness, alien species richness, and alien cover declined with elevation, at scales from 1 to 1000 m<jats:sup>2</jats:sup>. We found no support for the hypothesis that community diversity inhibits alien invasion. At the 1‐m<jats:sup>2</jats:sup> point scale, where we would expect competitive interactions between the largely herbaceous flora to be most intense, alien species richness as well as alien cover increased with increasing native species richness in all communities. This suggests that aliens are limited not by the number of native competitors, but by resources that affect establishment of both natives and aliens.</jats:p><jats:p>Blue oak savannas were heavily dominated by alien species and consistently had more alien than native species at the 1‐m<jats:sup>2</jats:sup> scale. All of these aliens are annuals, and it is widely thought that they have displaced native bunchgrasses. If true, this means that aliens have greatly increased species richness. Alternatively, there is a rich regional flora of native annual forbs that could have dominated these grasslands prior to displacement by alien grasses. On our sites, livestock grazing increased the number of alien species and alien cover only slightly over that of sites free of livestock grazing for more than a century, indicating some level of permanency to this invasion.</jats:p><jats:p>In chaparral, both diversity and aliens increased markedly several years after fire. Invasive species are rare in undisturbed shrublands, and alien propagules fail to survive the natural crown fires in these ecosystems. Thus, aliens necessarily must colonize after fire and, as a consequence, time since fire is an important determinant of invasive presence. Blue oak savannas are an important propagule source for alien species because they maintain permanent populations of all alien species encountered in postfire chaparral, and because the vegetation mosaic in this region places them in proximity to chaparral. The speed at which alien propagules reach a burned site and the speed at which the shrublands return to their former closed‐canopy condition determine alien invasion. Frequent burning of this vegetation alters the balance in favor of alien invasion.</jats:p><jats:p>In the higher‐elevation coniferous forests, species diversity was a function of fire severity and time since fire. High‐intensity fires create gaps that decrease canopy coverage and increase light levels and nutrients for an ephemeral successional flora. Few species have persistent seed banks, so the time since fire is an important determinant of colonization success. There was a highly significant interaction between fire severity and time since fire for understory cover, species richness, and alien richness and cover. Understory was sparse in the first year after fire, particularly in low‐severity burns, and increased substantially several years after fire, particularly on high‐severity burns. Both fire severity and time since fire affected alien species richness and dominance. Coniferous forests had about one‐third as many alien species as the foothill oak savannas, and fewer than half of the species were shared between these communities. Unburned coniferous forests were largely free of alien species, whereas some burned sites had a significant alien presence, which presents a challenge for fire restoration of these forests.',\n",
       " 'Ecological Applications',\n",
       " 'en',\n",
       " 'FIRE AND GRAZING IMPACTS ON PLANT DIVERSITY AND ALIEN PLANT INVASIONS IN THE SOUTHERN SIERRA NEVADA')"
      ]
     },
     "execution_count": 27,
     "metadata": {},
     "output_type": "execute_result"
    }
   ],
   "source": [
    "get_metadata(fetch_crossref_metadata('10.1890/02-5002',params=params,filters=filters))"
   ]
  },
  {
   "cell_type": "code",
   "execution_count": null,
   "id": "9eb04631",
   "metadata": {},
   "outputs": [
    {
     "name": "stderr",
     "output_type": "stream",
     "text": [
      "2025-07-22 14:44:53,086 - INFO - load raw positive datasets\n",
      "2025-07-22 14:44:53,088 - INFO - /home/leandre/Projects/BioMoQA_Playground/data/IPBES/Raw/Positives/IPBES IAS_2352922\n",
      "2025-07-22 14:44:53,089 - INFO - 128\n"
     ]
    },
    {
     "data": {
      "application/vnd.jupyter.widget-view+json": {
       "model_id": "1bc972b0f87e48f0b3b22145ebc77c84",
       "version_major": 2,
       "version_minor": 0
      },
      "text/plain": [
       "Resolving data files:   0%|          | 0/128 [00:00<?, ?it/s]"
      ]
     },
     "metadata": {},
     "output_type": "display_data"
    },
    {
     "name": "stderr",
     "output_type": "stream",
     "text": [
      "2025-07-22 14:44:53,528 - INFO - Successfully loaded dataset from: /home/leandre/Projects/BioMoQA_Playground/data/IPBES/Raw/Positives/IPBES IAS_2352922\n",
      "2025-07-22 14:44:53,528 - INFO - /home/leandre/Projects/BioMoQA_Playground/data/IPBES/Raw/Positives/IPBES SUA_2344805\n",
      "2025-07-22 14:44:53,530 - INFO - 86\n"
     ]
    },
    {
     "data": {
      "application/vnd.jupyter.widget-view+json": {
       "model_id": "4e51b0141856418d92dd922ec9db1b0b",
       "version_major": 2,
       "version_minor": 0
      },
      "text/plain": [
       "Resolving data files:   0%|          | 0/86 [00:00<?, ?it/s]"
      ]
     },
     "metadata": {},
     "output_type": "display_data"
    },
    {
     "name": "stderr",
     "output_type": "stream",
     "text": [
      "2025-07-22 14:44:53,688 - INFO - Successfully loaded dataset from: /home/leandre/Projects/BioMoQA_Playground/data/IPBES/Raw/Positives/IPBES SUA_2344805\n",
      "2025-07-22 14:44:53,688 - INFO - /home/leandre/Projects/BioMoQA_Playground/data/IPBES/Raw/Positives/IPBES VA_2345372\n",
      "2025-07-22 14:44:53,689 - INFO - 128\n"
     ]
    },
    {
     "data": {
      "application/vnd.jupyter.widget-view+json": {
       "model_id": "8f1c470f5c5042889ff6b3348b228161",
       "version_major": 2,
       "version_minor": 0
      },
      "text/plain": [
       "Resolving data files:   0%|          | 0/128 [00:00<?, ?it/s]"
      ]
     },
     "metadata": {},
     "output_type": "display_data"
    },
    {
     "name": "stderr",
     "output_type": "stream",
     "text": [
      "2025-07-22 14:44:53,853 - INFO - Successfully loaded dataset from: /home/leandre/Projects/BioMoQA_Playground/data/IPBES/Raw/Positives/IPBES VA_2345372\n",
      "2025-07-22 14:44:53,854 - INFO - pos_ds features for IAS : {'DOI': Value(dtype='string', id=None), 'Title': Value(dtype='string', id=None), 'Abstract Note': Value(dtype='string', id=None), 'Language': Value(dtype='string', id=None), 'Item Type': Value(dtype='string', id=None), 'Publication Year': Value(dtype='int32', id=None)}\n",
      "2025-07-22 14:44:53,854 - INFO - load raw negative dataset\n",
      "2025-07-22 14:44:53,855 - INFO - creating corpus dataset\n"
     ]
    },
    {
     "data": {
      "application/vnd.jupyter.widget-view+json": {
       "model_id": "e539564841d248a9b6dfe38830b6d4a9",
       "version_major": 2,
       "version_minor": 0
      },
      "text/plain": [
       "Resolving data files:   0%|          | 0/2524 [00:00<?, ?it/s]"
      ]
     },
     "metadata": {},
     "output_type": "display_data"
    },
    {
     "data": {
      "application/vnd.jupyter.widget-view+json": {
       "model_id": "87104754ecd54e969ee5f8d0f56499aa",
       "version_major": 2,
       "version_minor": 0
      },
      "text/plain": [
       "Loading dataset shards:   0%|          | 0/42 [00:00<?, ?it/s]"
      ]
     },
     "metadata": {},
     "output_type": "display_data"
    },
    {
     "name": "stderr",
     "output_type": "stream",
     "text": [
      "2025-07-22 14:44:55,441 - INFO - dataset loaded\n",
      "2025-07-22 14:44:55,442 - INFO - ['id', 'display_name', 'author', 'ab', 'doi', 'topics', 'author_abbr']\n",
      "2025-07-22 14:44:55,442 - INFO - renaming raw positive datasets\n",
      "2025-07-22 14:44:55,522 - INFO - Finished positives and negatives creation pipeline\n"
     ]
    },
    {
     "name": "stdout",
     "output_type": "stream",
     "text": [
      "pos_combined Dataset({\n",
      "    features: ['doi', 'title', 'abstract', 'Item Type', 'Publication Year'],\n",
      "    num_rows: 8701\n",
      "})\n",
      "Filtering out rows with no abstracts or DOI...\n",
      "Size of the dataset before cleaning: 4235832\n",
      "Applying clean_filter...\n"
     ]
    },
    {
     "name": "stderr",
     "output_type": "stream",
     "text": [
      "2025-07-22 14:44:58,244 - INFO - Dataset size after cleaing : 4851\n",
      "2025-07-22 14:44:59,118 - INFO - Fold 1:\n",
      "2025-07-22 14:44:59,119 - INFO -   Train label distribution: {(1, 0, 0): 0.9153439153439153, (0, 1, 0): 0.07054673721340388, (1, 1, 0): 0.007642563198118754, (1, 0, 1): 0.003527336860670194, (1, 1, 1): 0.001763668430335097, (0, 1, 1): 0.0011757789535567313}\n",
      "2025-07-22 14:44:59,119 - INFO -   Test label distribution: {(1, 0, 0): 0.45683601817430813, (0, 0, 1): 0.30813713341594384, (0, 1, 0): 0.21396117306897977, (0, 1, 1): 0.00950020652622883, (1, 0, 1): 0.004956629491945477, (1, 1, 0): 0.004543577034283354, (1, 1, 1): 0.0020652622883106154}\n",
      "2025-07-22 14:44:59,235 - INFO - Fold 2:\n",
      "2025-07-22 14:44:59,236 - INFO -   Train label distribution: {(1, 0, 0): 0.9198113207547169, (0, 1, 0): 0.06898584905660378, (1, 0, 1): 0.0047169811320754715, (1, 1, 0): 0.004127358490566038, (0, 1, 1): 0.0011792452830188679, (1, 1, 1): 0.0011792452830188679}\n",
      "2025-07-22 14:44:59,237 - INFO -   Test label distribution: {(1, 0, 0): 0.45843621399176954, (0, 0, 1): 0.30781893004115224, (0, 1, 0): 0.21563786008230454, (0, 1, 1): 0.0102880658436214, (1, 0, 1): 0.004526748971193415, (1, 1, 0): 0.002880658436213992, (1, 1, 1): 0.00041152263374485596}\n"
     ]
    },
    {
     "name": "stdout",
     "output_type": "stream",
     "text": [
      "Dataset({\n",
      "    features: ['doi', 'title', 'abstract', 'Item Type', 'Publication Year', 'id', 'display_name', 'author', 'ab', 'topics', 'author_abbr', 'IAS', 'SUA', 'VA'],\n",
      "    num_rows: 4851\n",
      "})\n",
      "{'doi': Value(dtype='string', id=None), 'title': Value(dtype='string', id=None), 'abstract': Value(dtype='string', id=None), 'Item Type': Value(dtype='string', id=None), 'Publication Year': Value(dtype='float64', id=None), 'id': Value(dtype='string', id=None), 'display_name': Value(dtype='string', id=None), 'author': [{'au_id': Value(dtype='string', id=None), 'au_display_name': Value(dtype='string', id=None), 'au_orcid': Value(dtype='string', id=None), 'author_position': Value(dtype='string', id=None), 'is_corresponding': Value(dtype='bool', id=None), 'au_affiliation_raw': Value(dtype='string', id=None), 'institution_id': Value(dtype='string', id=None), 'institution_display_name': Value(dtype='string', id=None), 'institution_ror': Value(dtype='string', id=None), 'institution_country_code': Value(dtype='string', id=None), 'institution_type': Value(dtype='string', id=None), 'institution_lineage': Value(dtype='string', id=None)}], 'ab': Value(dtype='string', id=None), 'topics': [{'i': Value(dtype='int32', id=None), 'score': Value(dtype='float64', id=None), 'name': Value(dtype='string', id=None), 'id': Value(dtype='string', id=None), 'display_name': Value(dtype='string', id=None)}], 'author_abbr': Value(dtype='string', id=None), 'IAS': Value(dtype='int64', id=None), 'SUA': Value(dtype='int64', id=None), 'VA': Value(dtype='int64', id=None)}\n"
     ]
    }
   ],
   "source": [
    "from src.data_pipeline.ipbes.preprocess_ipbes import data_pipeline\n",
    "\n",
    "clean_ds,folds_per_run=data_pipeline(2,1,balance_coeff=1,multi_label=True,fill_metadata=False)\n",
    "print(clean_ds)\n",
    "print(clean_ds.features)"
   ]
  },
  {
   "cell_type": "code",
   "execution_count": null,
   "id": "3052322e",
   "metadata": {},
   "outputs": [
    {
     "name": "stdout",
     "output_type": "stream",
     "text": [
      "Dataset({\n",
      "    features: ['doi', 'title', 'abstract', 'Item Type', 'Publication Year', 'id', 'display_name', 'author', 'ab', 'topics', 'author_abbr', 'IAS', 'SUA', 'VA'],\n",
      "    num_rows: 0\n",
      "})\n",
      "Dataset({\n",
      "    features: ['doi', 'title', 'abstract', 'Item Type', 'Publication Year', 'id', 'display_name', 'author', 'ab', 'topics', 'author_abbr', 'IAS', 'SUA', 'VA'],\n",
      "    num_rows: 0\n",
      "})\n",
      "Dataset({\n",
      "    features: ['doi', 'title', 'abstract', 'Item Type', 'Publication Year', 'id', 'display_name', 'author', 'ab', 'topics', 'author_abbr', 'IAS', 'SUA', 'VA'],\n",
      "    num_rows: 0\n",
      "})\n",
      "['journalArticle']\n"
     ]
    }
   ],
   "source": [
    "\n",
    "print(clean_ds.filter(lambda batch : [batch['doi'][i] is None and (batch['IAS']==1 or batch['SUA']==1 or batch['VA']==1 ) for i in range(len(batch['doi']))],batched=True,batch_size=1000,num_proc=20))\n",
    "print(clean_ds.filter(lambda batch : [batch['abstract'][i] is None for i in range(len(batch['doi']))],batched=True,batch_size=1000,num_proc=20))\n",
    "print(clean_ds.filter(lambda batch : [batch['title'][i] is None for i in range(len(batch['doi']))],batched=True,batch_size=1000,num_proc=20))\n",
    "print(clean_ds.to_pandas()['Item Type'].unique())\n",
    "\n"
   ]
  },
  {
   "cell_type": "code",
   "execution_count": null,
   "id": "94c78e53",
   "metadata": {},
   "outputs": [],
   "source": []
  }
 ],
 "metadata": {
  "kernelspec": {
   "display_name": "BioMoQA_Playground",
   "language": "python",
   "name": "python3"
  },
  "language_info": {
   "codemirror_mode": {
    "name": "ipython",
    "version": 3
   },
   "file_extension": ".py",
   "mimetype": "text/x-python",
   "name": "python",
   "nbconvert_exporter": "python",
   "pygments_lexer": "ipython3",
   "version": "3.11.11"
  }
 },
 "nbformat": 4,
 "nbformat_minor": 5
}
